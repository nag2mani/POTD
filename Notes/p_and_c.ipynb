{
 "cells": [
  {
   "cell_type": "code",
   "execution_count": 10,
   "metadata": {},
   "outputs": [],
   "source": [
    "from itertools import combinations, permutations\n",
    "s = 'NAG'\n",
    "arr = [3, 1, 2]"
   ]
  },
  {
   "cell_type": "code",
   "execution_count": 14,
   "metadata": {},
   "outputs": [
    {
     "name": "stdout",
     "output_type": "stream",
     "text": [
      "['NAG', 'NGA', 'ANG', 'AGN', 'GNA', 'GAN']\n",
      "[('N', 'A'), ('N', 'G'), ('A', 'N'), ('A', 'G'), ('G', 'N'), ('G', 'A')]\n",
      "[('N', 'A', 'G'), ('N', 'G', 'A'), ('A', 'N', 'G'), ('A', 'G', 'N'), ('G', 'N', 'A'), ('G', 'A', 'N')]\n"
     ]
    }
   ],
   "source": [
    "p1 = permutations(s)\n",
    "x1 = [\"\".join(i) for i in list(p1)]\n",
    "print(x1)\n",
    "\n",
    "print(list(permutations(s, 2)))\n",
    "print(list(permutations(s, 3)))"
   ]
  },
  {
   "cell_type": "code",
   "execution_count": 15,
   "metadata": {},
   "outputs": [
    {
     "name": "stdout",
     "output_type": "stream",
     "text": [
      "[(3, 1, 2), (3, 2, 1), (1, 3, 2), (1, 2, 3), (2, 3, 1), (2, 1, 3)]\n",
      "[(3, 1), (3, 2), (1, 3), (1, 2), (2, 3), (2, 1)]\n",
      "[(3, 1, 2), (3, 2, 1), (1, 3, 2), (1, 2, 3), (2, 3, 1), (2, 1, 3)]\n"
     ]
    }
   ],
   "source": [
    "p2 = permutations(arr)\n",
    "x2 = list(p2)\n",
    "print(x2)\n",
    "\n",
    "print(list(permutations(arr, 2)))\n",
    "print(list(permutations(arr, 3)))"
   ]
  },
  {
   "cell_type": "code",
   "execution_count": null,
   "metadata": {},
   "outputs": [],
   "source": [
    "def subarrays(arr):\n",
    "    subarrs = []\n",
    "    for i in range(len(arr) + 1):\n",
    "        for combo in combinations(arr, i):\n",
    "            subarrs.append(list(combo))\n",
    "    return subarrs\n",
    "print(subarrays(arr))\n",
    "\n",
    "def subarrays(arr):\n",
    "    subarrs = []\n",
    "    n = len(arr)\n",
    "    for i in range(n):\n",
    "        for j in range(i+1, n+1):\n",
    "            subarrs.append(arr[i:j])\n",
    "    return subarrs\n",
    "print(subarrays(arr))\n",
    "\n",
    "def subarrays_recursive(arr):\n",
    "    if len(arr) == 0:\n",
    "        return [[]]\n",
    "    else:\n",
    "        subarrs = subarrays_recursive(arr[:-1])\n",
    "        return subarrs + [subarr + [arr[-1]] for subarr in subarrs]\n",
    "print(subarrays_recursive(arr))"
   ]
  }
 ],
 "metadata": {
  "kernelspec": {
   "display_name": "Python 3",
   "language": "python",
   "name": "python3"
  },
  "language_info": {
   "codemirror_mode": {
    "name": "ipython",
    "version": 3
   },
   "file_extension": ".py",
   "mimetype": "text/x-python",
   "name": "python",
   "nbconvert_exporter": "python",
   "pygments_lexer": "ipython3",
   "version": "3.12.0"
  }
 },
 "nbformat": 4,
 "nbformat_minor": 2
}
