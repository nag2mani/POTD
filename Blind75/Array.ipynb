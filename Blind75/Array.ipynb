{
 "cells": [
  {
   "cell_type": "code",
   "execution_count": null,
   "metadata": {},
   "outputs": [],
   "source": [
    "class Solution:\n",
    "    def twoSum(self, nums: List[int], target: int) -> List[int]:\n",
    "        numMap = {}\n",
    "        n = len(nums)\n",
    "\n",
    "        for i in range(n):\n",
    "            complement = target - nums[i]\n",
    "            if complement in numMap:\n",
    "                return [numMap[complement], i]\n",
    "            numMap[nums[i]] = i\n",
    "\n",
    "        return []  # No solution found"
   ]
  },
  {
   "cell_type": "code",
   "execution_count": null,
   "metadata": {},
   "outputs": [],
   "source": [
    "class Solution:\n",
    "    def productExceptSelf(self, nums: List[int]) -> List[int]:\n",
    "        result = [1]*len(nums)\n",
    "        left = 1\n",
    "        for i in range(len(nums)):\n",
    "            result[i] *= left\n",
    "            left *= nums[i]\n",
    "        right = 1\n",
    "        for i in range(len(nums)-1, -1, -1):\n",
    "            result[i] *= right\n",
    "            right *= nums[i]\n",
    "        return result"
   ]
  },
  {
   "cell_type": "code",
   "execution_count": null,
   "metadata": {},
   "outputs": [],
   "source": [
    "class Solution:\n",
    "    def containsDuplicate(self, nums: List[int]) -> bool:\n",
    "        f = Counter(nums)\n",
    "        for key in f:\n",
    "            if f[key] > 1:\n",
    "                return True\n",
    "        return False"
   ]
  },
  {
   "cell_type": "code",
   "execution_count": null,
   "metadata": {},
   "outputs": [],
   "source": [
    "class Solution:\n",
    "    def maxProfit(self, prices: List[int]) -> int:\n",
    "        min_price = float('inf')\n",
    "        max_profit = 0\n",
    "\n",
    "        for price in prices:\n",
    "            if price < min_price:\n",
    "                min_price = price\n",
    "\n",
    "            elif price - min_price > max_profit:\n",
    "                max_profit = price - min_price\n",
    "\n",
    "        return max_profit"
   ]
  },
  {
   "cell_type": "code",
   "execution_count": null,
   "metadata": {},
   "outputs": [],
   "source": [
    "class Solution:\n",
    "    def maxSubArray(self, nums: List[int]) -> int:\n",
    "        max_sum = float('-inf')\n",
    "        current_subarray_sum = 0\n",
    "        for num in nums:\n",
    "            current_subarray_sum = max(num, num+current_subarray_sum)\n",
    "            max_sum = max(max_sum, current_subarray_sum)\n",
    "        return max_sum\n"
   ]
  },
  {
   "cell_type": "code",
   "execution_count": null,
   "metadata": {},
   "outputs": [],
   "source": [
    "class Solution:\n",
    "    def maxProduct(self, nums: List[int]) -> int:\n",
    "        maxproduct = float('-inf')\n",
    "        currentmaxproduct = float('-inf')\n",
    "        currentminproduct = float('inf')\n",
    "\n",
    "        for num in nums:\n",
    "            if num < 0:\n",
    "                currentmaxproduct, currentminproduct= currentminproduct, currentmaxproduct\n",
    "            currentmaxproduct = max(num, currentmaxproduct*num)\n",
    "            currentminproduct = min(num, currentminproduct*num)\n",
    "\n",
    "            maxproduct = max(maxproduct, currentmaxproduct)\n",
    "\n",
    "        return maxproduct"
   ]
  },
  {
   "cell_type": "code",
   "execution_count": null,
   "metadata": {},
   "outputs": [],
   "source": [
    "class Solution:\n",
    "    def findMin(self, nums: List[int]) -> int:\n",
    "        n=len(nums)\n",
    "        left = 0\n",
    "        right = n-1\n",
    "        while left < right:\n",
    "            mid = left + (right - left)//2\n",
    "            if nums[right] < nums[mid]:\n",
    "                left = mid + 1\n",
    "            else:\n",
    "                right = mid\n",
    "        return nums[left]"
   ]
  },
  {
   "cell_type": "code",
   "execution_count": null,
   "metadata": {},
   "outputs": [],
   "source": [
    "class Solution:\n",
    "    def search(self, nums: List[int], target: int) -> int:\n",
    "        n=len(nums)\n",
    "        left = 0\n",
    "        right = n-1\n",
    "        while left <= right:\n",
    "            mid = left + (right - left)//2\n",
    "\n",
    "            if nums[mid] == target:\n",
    "                return mid\n",
    "\n",
    "            if nums[left] <= nums[mid]:\n",
    "                #means left part is sorted\n",
    "                if nums[left] <= target < nums[mid]:\n",
    "                    right = mid - 1\n",
    "                else:\n",
    "                    left = mid + 1\n",
    "            else:\n",
    "                #right part is sorted\n",
    "                if nums[mid] < target <= nums[right]:\n",
    "                    left = mid + 1\n",
    "                else:\n",
    "                    right = mid - 1\n",
    "        return -1\n",
    "\n"
   ]
  },
  {
   "cell_type": "code",
   "execution_count": null,
   "metadata": {},
   "outputs": [],
   "source": [
    "class Solution:\n",
    "    def threeSum(self, nums: List[int]) -> List[List[int]]:\n",
    "        n = len(nums)\n",
    "        nums.sort()\n",
    "        s = set()\n",
    "        for i in range(0, n-2):\n",
    "            left = i + 1\n",
    "            right = n - 1\n",
    "\n",
    "            while left < right:\n",
    "                total = nums[i] + nums[left] + nums[right]\n",
    "                if total == 0:\n",
    "                    k = [nums[i], nums[left], nums[right]]\n",
    "                    s.add(tuple(k))\n",
    "                    right -= 1\n",
    "                    left += 1\n",
    "                elif total < 0:\n",
    "                    left += 1\n",
    "                else:\n",
    "                    right -= 1\n",
    "        return list(s)\n"
   ]
  },
  {
   "cell_type": "code",
   "execution_count": null,
   "metadata": {},
   "outputs": [],
   "source": [
    "class Solution:\n",
    "    def maxArea(self, height: List[int]) -> int:\n",
    "        max_area = 0\n",
    "        left = 0\n",
    "        right = len(height) - 1\n",
    "        while left < right :\n",
    "            area = (right - left) * min(height[left], height[right])\n",
    "            if area > max_area:\n",
    "                max_area = area\n",
    "\n",
    "            if height[left] < height[right]:\n",
    "                left += 1\n",
    "            else:\n",
    "                right -= 1\n",
    "        return max_area"
   ]
  }
 ],
 "metadata": {
  "kernelspec": {
   "display_name": "Python 3",
   "language": "python",
   "name": "python3"
  },
  "language_info": {
   "codemirror_mode": {
    "name": "ipython",
    "version": 3
   },
   "file_extension": ".py",
   "mimetype": "text/x-python",
   "name": "python",
   "nbconvert_exporter": "python",
   "pygments_lexer": "ipython3",
   "version": "3.12.0"
  }
 },
 "nbformat": 4,
 "nbformat_minor": 2
}
