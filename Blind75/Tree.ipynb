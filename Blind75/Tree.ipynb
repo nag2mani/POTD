{
 "cells": [
  {
   "cell_type": "code",
   "execution_count": 25,
   "metadata": {},
   "outputs": [
    {
     "name": "stdout",
     "output_type": "stream",
     "text": [
      "3\n"
     ]
    }
   ],
   "source": [
    "# Given the root of a Binary Tree, return the height of the tree. The height of the tree is equal to the number of nodes on the longest path from root to a leaf.\n",
    "\n",
    "class BinaryTreeNode:\n",
    "    def __init__(self, val=0, left=None, right=None):\n",
    "        self.val = val\n",
    "        self.left = left\n",
    "        self.right = right\n",
    "    \n",
    "def height(root:BinaryTreeNode) -> int:\n",
    "    if root == None:\n",
    "        return 0\n",
    "    return 1 + max(height(root.left), height(root.right))\n",
    "\n",
    "# Creating a sample tree: \n",
    "#        3\n",
    "#       / \\\n",
    "#      9   20\n",
    "#    /  \\\n",
    "#   15   7\n",
    "\n",
    "root = BinaryTreeNode(3)\n",
    "root.left = BinaryTreeNode(9)\n",
    "root.right = BinaryTreeNode(20)\n",
    "root.left.left = BinaryTreeNode(15)\n",
    "root.left.right = BinaryTreeNode(7)\n",
    "\n",
    "print(height(root))\n"
   ]
  },
  {
   "cell_type": "code",
   "execution_count": 26,
   "metadata": {},
   "outputs": [
    {
     "name": "stdout",
     "output_type": "stream",
     "text": [
      "True\n"
     ]
    }
   ],
   "source": [
    "# Given the roots of two binary trees p and q, write a function to check if they are the same or not.\n",
    "\n",
    "def isSameBTree(p, q) -> bool:\n",
    "        if not p or not q:\n",
    "            if not p and not q:\n",
    "                return True\n",
    "            else:\n",
    "                return False\n",
    "        elif p.val != q.val:\n",
    "            return False\n",
    "        else:\n",
    "            return isSameBTree(p.left, q.left) and isSameBTree(p.right, q.right)\n",
    "\n",
    "# Creating a sample tree - 1: \n",
    "#        3\n",
    "#       / \\\n",
    "#      9   20\n",
    "#    /  \\\n",
    "#   15   7\n",
    "\n",
    "root1 = BinaryTreeNode(3)\n",
    "root1.left = BinaryTreeNode(9)\n",
    "root1.right = BinaryTreeNode(20)\n",
    "root1.left.left = BinaryTreeNode(15)\n",
    "root1.left.right = BinaryTreeNode(7)\n",
    "\n",
    "# Creating a sample tree - 2: \n",
    "#        3\n",
    "#       / \\\n",
    "#      9   20\n",
    "#    /  \\\n",
    "#   15   7\n",
    "\n",
    "root2 = BinaryTreeNode(3)\n",
    "root2.left = BinaryTreeNode(9)\n",
    "root2.right = BinaryTreeNode(20)\n",
    "root2.left.left = BinaryTreeNode(15)\n",
    "root2.left.right = BinaryTreeNode(7)\n",
    "\n",
    "print(isSameBTree(root1, root2))"
   ]
  },
  {
   "cell_type": "code",
   "execution_count": 27,
   "metadata": {},
   "outputs": [
    {
     "name": "stdout",
     "output_type": "stream",
     "text": [
      "3\n",
      "20\n",
      "9\n",
      "7\n",
      "15\n"
     ]
    }
   ],
   "source": [
    "# Given the root of a binary tree, invert the tree, and return its root.\n",
    "\n",
    "class BinaryTreeNode:\n",
    "    def __init__(self, val=0, left=None, right=None):\n",
    "        self.val = val\n",
    "        self.left = left\n",
    "        self.right = right\n",
    "\n",
    "def invertBinaryTree(root:BinaryTreeNode) -> BinaryTreeNode:\n",
    "    if root is None:\n",
    "        return None\n",
    "    root.left, root.right = root.right, root.left\n",
    "    invertBinaryTree(root.left)\n",
    "    invertBinaryTree(root.right)\n",
    "    return root\n",
    "\n",
    "# Creating a sample tree: \n",
    "#        3\n",
    "#       / \\\n",
    "#      9   20\n",
    "#    /  \\\n",
    "#   15   7\n",
    "\n",
    "root = BinaryTreeNode(3)\n",
    "root.left = BinaryTreeNode(9)\n",
    "root.right = BinaryTreeNode(20)\n",
    "root.left.left = BinaryTreeNode(15)\n",
    "root.left.right = BinaryTreeNode(7)\n",
    "\n",
    "inverted_root = invertBinaryTree(root)\n",
    "\n",
    "print(inverted_root.val)\n",
    "print(inverted_root.left.val)\n",
    "print(inverted_root.right.val)\n",
    "print(inverted_root.right.left.val)\n",
    "print(inverted_root.right.right.val)"
   ]
  },
  {
   "cell_type": "code",
   "execution_count": 45,
   "metadata": {},
   "outputs": [
    {
     "name": "stdout",
     "output_type": "stream",
     "text": [
      "7\n",
      "2\n"
     ]
    }
   ],
   "source": [
    "class Solution:\n",
    "    def maxPathSum(self, root) -> int:\n",
    "        self.maxi = float('-inf')\n",
    "        self.helper(root)\n",
    "        return self.maxi\n",
    "    \n",
    "    def helper(self, root):\n",
    "        if root is None:\n",
    "            return 0\n",
    "        left = max(0, self.helper(root.left))\n",
    "        right = max(0, self.helper(root.right))\n",
    "        \n",
    "        self.maxi = max(self.maxi, left + right + root.val)\n",
    "        \n",
    "        return max(left, right) + root.val\n",
    "\n",
    "root = BinaryTreeNode(-1)\n",
    "root.left = BinaryTreeNode(1)\n",
    "root.right = BinaryTreeNode(3)\n",
    "root.right.left = BinaryTreeNode(4)\n",
    "root.right.right = BinaryTreeNode(-5)\n",
    "s = Solution()\n",
    "print(s.maxPathSum(root))\n",
    "\n",
    "root1 = BinaryTreeNode(2)\n",
    "root1.left = BinaryTreeNode(-1)\n",
    "s = Solution()\n",
    "print(s.maxPathSum(root1))"
   ]
  }
 ],
 "metadata": {
  "kernelspec": {
   "display_name": "Python 3",
   "language": "python",
   "name": "python3"
  },
  "language_info": {
   "codemirror_mode": {
    "name": "ipython",
    "version": 3
   },
   "file_extension": ".py",
   "mimetype": "text/x-python",
   "name": "python",
   "nbconvert_exporter": "python",
   "pygments_lexer": "ipython3",
   "version": "3.12.0"
  }
 },
 "nbformat": 4,
 "nbformat_minor": 2
}
