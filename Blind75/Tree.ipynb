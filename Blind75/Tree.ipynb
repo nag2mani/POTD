{
 "cells": [
  {
   "cell_type": "markdown",
   "metadata": {},
   "source": [
    "Binary Tree Used in the below Questions."
   ]
  },
  {
   "cell_type": "code",
   "execution_count": 1,
   "metadata": {},
   "outputs": [],
   "source": [
    "class BinaryTreeNode:\n",
    "    def __init__(self, val=0, left=None, right=None):\n",
    "        self.val = val\n",
    "        self.left = left\n",
    "        self.right = right\n",
    "\n",
    "# Creating a sample tree - 1: \n",
    "#        3\n",
    "#       / \\\n",
    "#      9   20\n",
    "#    /  \\\n",
    "#   15   7\n",
    "\n",
    "root1 = BinaryTreeNode(3)\n",
    "root1.left = BinaryTreeNode(9)\n",
    "root1.right = BinaryTreeNode(20)\n",
    "root1.left.left = BinaryTreeNode(15)\n",
    "root1.left.right = BinaryTreeNode(7)\n",
    "\n",
    "# Creating a sample tree - 2: \n",
    "#        3\n",
    "#       / \\\n",
    "#      9   20\n",
    "#    /  \\\n",
    "#   15   7\n",
    "\n",
    "root2 = BinaryTreeNode(3)\n",
    "root2.left = BinaryTreeNode(9)\n",
    "root2.right = BinaryTreeNode(20)\n",
    "root2.left.left = BinaryTreeNode(15)\n",
    "root2.left.right = BinaryTreeNode(7)"
   ]
  },
  {
   "cell_type": "code",
   "execution_count": 2,
   "metadata": {},
   "outputs": [
    {
     "name": "stdout",
     "output_type": "stream",
     "text": [
      "3\n"
     ]
    }
   ],
   "source": [
    "# Q. Given the root of a Binary Tree, return the height of the tree. The height of the tree is equal to the number of nodes on the longest path from root to a leaf.\n",
    "\n",
    "def height(root:BinaryTreeNode) -> int:\n",
    "    if root == None:\n",
    "        return 0\n",
    "    return 1 + max(height(root.left), height(root.right))\n",
    "\n",
    "print(height(root1))"
   ]
  },
  {
   "cell_type": "code",
   "execution_count": null,
   "metadata": {},
   "outputs": [
    {
     "name": "stdout",
     "output_type": "stream",
     "text": [
      "True\n",
      "True\n"
     ]
    }
   ],
   "source": [
    "# Q. Given the roots of two binary trees p and q, write a function to check if they are the same or not.\n",
    "\n",
    "def isSameBTree(tree1, tree2) -> bool:\n",
    "        if not tree1 and not tree2:\n",
    "            return True\n",
    "        if not tree1 or not tree2:\n",
    "            return False\n",
    "        return (tree1.val == tree2.val and isSameBTree(tree1.left, tree2.left) and isSameBTree(tree1.right, tree2.right))\n",
    "\n",
    "print(isSameBTree(root1, root2))"
   ]
  },
  {
   "cell_type": "code",
   "execution_count": 4,
   "metadata": {},
   "outputs": [],
   "source": [
    "# Q. Given the root of a binary tree, invert the tree, and return its root.\n",
    "\n",
    "def invertBinaryTree(root:BinaryTreeNode) -> BinaryTreeNode:\n",
    "    if root is None:\n",
    "        return None\n",
    "    root.left, root.right = root.right, root.left\n",
    "    invertBinaryTree(root.left)\n",
    "    invertBinaryTree(root.right)\n",
    "    return root\n",
    "\n",
    "# inverted_root = invertBinaryTree(root1)\n",
    "\n",
    "# print(inverted_root.val)\n",
    "# print(inverted_root.left.val)\n",
    "# print(inverted_root.right.val)\n",
    "# print(inverted_root.right.left.val)\n",
    "# print(inverted_root.right.right.val)"
   ]
  },
  {
   "cell_type": "code",
   "execution_count": 5,
   "metadata": {},
   "outputs": [
    {
     "name": "stdout",
     "output_type": "stream",
     "text": [
      "47\n"
     ]
    }
   ],
   "source": [
    "# Q. Maximum Sum Path in Binary Tree\n",
    "\n",
    "class Solution:\n",
    "    def maxPathSum(self, root) -> int:\n",
    "        self.maxi = float('-inf')\n",
    "        self.helper(root)\n",
    "        return self.maxi\n",
    "    \n",
    "    def helper(self, root):\n",
    "        if root is None:\n",
    "            return 0\n",
    "        left = max(0, self.helper(root.left))\n",
    "        right = max(0, self.helper(root.right))\n",
    "        \n",
    "        self.maxi = max(self.maxi, left + right + root.val)\n",
    "        \n",
    "        return max(left, right) + root.val\n",
    "\n",
    "s = Solution()\n",
    "print(s.maxPathSum(root1))"
   ]
  },
  {
   "cell_type": "code",
   "execution_count": 6,
   "metadata": {},
   "outputs": [
    {
     "name": "stdout",
     "output_type": "stream",
     "text": [
      "[[3], [9, 20], [15, 7]]\n"
     ]
    }
   ],
   "source": [
    "# Q. Given the root of a Binary Tree, returns an array containing the level order traversal of the tree.\n",
    "\n",
    "from collections import deque\n",
    "from typing import Optional, List\n",
    "\n",
    "def levelOrder(root: Optional[BinaryTreeNode]) -> List[List[int]]:\n",
    "    if not root:\n",
    "        return []\n",
    "\n",
    "    result = []\n",
    "    queue = deque([root])\n",
    "\n",
    "    while queue:\n",
    "        levelSize = len(queue)\n",
    "        level = []\n",
    "\n",
    "        for _ in range(levelSize):\n",
    "            node = queue.popleft()\n",
    "            level.append(node.val)\n",
    "            if node.left:\n",
    "                queue.append(node.left)\n",
    "            if node.right:\n",
    "                queue.append(node.right)\n",
    "\n",
    "        result.append(level)\n",
    "\n",
    "    return result\n",
    "\n",
    "print(levelOrder(root1))"
   ]
  },
  {
   "cell_type": "code",
   "execution_count": 7,
   "metadata": {},
   "outputs": [
    {
     "name": "stdout",
     "output_type": "stream",
     "text": [
      "True\n",
      "3,9,15,#,#,7,#,#,20,#,#\n",
      "True\n"
     ]
    }
   ],
   "source": [
    "def isSubtree(root, subRoot):\n",
    "    if not root:\n",
    "        return False\n",
    "    # isSameBTree is defined above.\n",
    "    if isSameBTree(root, subRoot):\n",
    "        return True\n",
    "    return isSubtree(root.left, subRoot) or isSubtree(root.right, subRoot)\n",
    "\n",
    "print(isSubtree(root1, root2))\n",
    "\n",
    "\n",
    "\n",
    "def isSubtree2(root, subRoot) -> bool:\n",
    "    def serialize(root):\n",
    "        if not root:\n",
    "            return \"#\"\n",
    "        return f\"{root.val},{serialize(root.left)},{serialize(root.right)}\"\n",
    "    \n",
    "    root_serialized = serialize(root)\n",
    "    print(root_serialized)\n",
    "    subRoot_serialized = serialize(subRoot)\n",
    "    # print(subRoot_serialized)\n",
    "    \n",
    "    return subRoot_serialized in root_serialized\n",
    "\n",
    "print(isSubtree2(root1, root2))"
   ]
  },
  {
   "cell_type": "code",
   "execution_count": 8,
   "metadata": {},
   "outputs": [
    {
     "name": "stdout",
     "output_type": "stream",
     "text": [
      "3\n"
     ]
    }
   ],
   "source": [
    "def buildTree(inorder: List[int], postorder: List[int]) -> Optional[BinaryTreeNode]:\n",
    "    if not inorder or not postorder:\n",
    "        return None\n",
    "    e = postorder.pop()\n",
    "    root = BinaryTreeNode(e)\n",
    "    i = inorder.index(e)\n",
    "    root.right = buildTree(inorder[i+1:], postorder)\n",
    "    root.left = buildTree(inorder[:i], postorder)\n",
    "    return root\n",
    "\n",
    "inorder = [9,3,15,20,7]\n",
    "postorder = [9,15,7,20,3]\n",
    "\n",
    "print(buildTree(inorder, postorder).val)"
   ]
  },
  {
   "cell_type": "code",
   "execution_count": 9,
   "metadata": {},
   "outputs": [
    {
     "name": "stdout",
     "output_type": "stream",
     "text": [
      "False\n"
     ]
    }
   ],
   "source": [
    "def isValidBST(root):\n",
    "\n",
    "    def validate(node, lower=float(\"-inf\"), upper=float(\"inf\")):\n",
    "        if not node:\n",
    "            return True\n",
    "        if node.val <= lower or node.val >= upper:\n",
    "            return False\n",
    "        return validate(node.left, lower, node.val) and validate(node.right, node.val, upper)\n",
    "\n",
    "    return validate(root)\n",
    "\n",
    "print(isValidBST(root1))\n",
    "\n",
    "\n",
    "# time = n, space=n\n",
    "def isValidBST(root):\n",
    "        inorder_list = []\n",
    "\n",
    "        def inorder(node):\n",
    "            if not node:\n",
    "                return\n",
    "            inorder(node.left)\n",
    "            inorder_list.append(node.val)\n",
    "            inorder(node.right)\n",
    "        inorder(root)\n",
    "\n",
    "        # Check if the inorder list is sorted and has unique elements\n",
    "        for i in range(1, len(inorder_list)):\n",
    "            if inorder_list[i] <= inorder_list[i - 1]:\n",
    "                return False\n",
    "\n",
    "        return True\n"
   ]
  },
  {
   "cell_type": "code",
   "execution_count": 10,
   "metadata": {},
   "outputs": [],
   "source": [
    "def kthSmallest(root, k):\n",
    "    lst=[]\n",
    "    def inorder(root):\n",
    "        if not root:\n",
    "            return\n",
    "        inorder(root.left)\n",
    "        lst.append(root.val)\n",
    "        inorder(root.right)\n",
    "    inorder(root)\n",
    "    return lst[k-1]\n",
    "\n",
    "#Best Sol\n",
    "def kthSmallest(root, k):\n",
    "        count = 0\n",
    "        # To store the result\n",
    "        result = None\n",
    "\n",
    "        def inorder(node):\n",
    "            # Base case: If the node is None or we already found the result\n",
    "            if not node or result is not None:\n",
    "                return\n",
    "            \n",
    "            # Traverse the left subtree\n",
    "            inorder(node.left)\n",
    "            \n",
    "            # Increment count and check if this is the kth node\n",
    "            count += 1\n",
    "            if count == k:\n",
    "                result = node.val\n",
    "                return\n",
    "            \n",
    "            # Traverse the right subtree\n",
    "            inorder(node.right)\n",
    "\n",
    "        # Perform the inorder traversal\n",
    "        inorder(root)\n",
    "        return result"
   ]
  },
  {
   "cell_type": "code",
   "execution_count": null,
   "metadata": {},
   "outputs": [],
   "source": [
    "def lowestCommonAncestorBT(root, p, q):\n",
    "    if root== None or root==p or root==q:\n",
    "        return root\n",
    "    \n",
    "    left = lowestCommonAncestorBT(root.left, p, q)\n",
    "    right = lowestCommonAncestorBT(root.right, p, q)\n",
    "\n",
    "    # If left and right are not null, current root is the LCA\n",
    "    if left == None:\n",
    "        return right\n",
    "    elif right == None:\n",
    "        return left\n",
    "    else:\n",
    "        return root\n",
    "\n",
    "\n",
    "def lowestCommonAncestorBST(root, p, q):\n",
    "    if not root:\n",
    "        return None\n",
    "\n",
    "    # If both nodes are smaller than root, LCA is in the left subtree.\n",
    "    if p.val < root.val and q.val < root.val:\n",
    "        return lowestCommonAncestorBST(root.left, p, q)\n",
    "    \n",
    "    # If both nodes are larger than root, LCA is in the right subtree.\n",
    "    elif p.val > root.val and q.val > root.val:\n",
    "        return lowestCommonAncestorBST(root.right, p, q)\n",
    "    \n",
    "    # If one node is on the left and the other is on the right, root is the LCA.\n",
    "    return root"
   ]
  }
 ],
 "metadata": {
  "kernelspec": {
   "display_name": "Python 3",
   "language": "python",
   "name": "python3"
  },
  "language_info": {
   "codemirror_mode": {
    "name": "ipython",
    "version": 3
   },
   "file_extension": ".py",
   "mimetype": "text/x-python",
   "name": "python",
   "nbconvert_exporter": "python",
   "pygments_lexer": "ipython3",
   "version": "3.12.0"
  }
 },
 "nbformat": 4,
 "nbformat_minor": 2
}
