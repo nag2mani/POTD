{
 "cells": [
  {
   "cell_type": "code",
   "execution_count": 7,
   "metadata": {},
   "outputs": [
    {
     "data": {
      "text/plain": [
       "[2, 1]"
      ]
     },
     "execution_count": 7,
     "metadata": {},
     "output_type": "execute_result"
    }
   ],
   "source": [
    "# Top K Frequent Elements\n",
    "from collections import Counter\n",
    "import heapq as heap\n",
    "\n",
    "def topKFrequent(nums, k):\n",
    "    freq_dict = Counter(nums)\n",
    "    min_heap = []\n",
    "    for num, freq in freq_dict.items():\n",
    "        heap.heappush(min_heap, (freq, num))\n",
    "        if len(min_heap) > k:\n",
    "            heap.heappop(min_heap)\n",
    "    return [n for f, n in min_heap]\n",
    "    \n",
    "\n",
    "nums = [1,1,1,2,2,3]\n",
    "k = 2\n",
    "topKFrequent(nums, k)"
   ]
  },
  {
   "cell_type": "code",
   "execution_count": 8,
   "metadata": {},
   "outputs": [],
   "source": [
    "from heapq import heappush, heappushpop\n",
    "\n",
    "class MedianFinder:\n",
    "\n",
    "    def __init__(self):\n",
    "        self.small = []\n",
    "        self.large = []\n",
    "        \n",
    "\n",
    "    def addNum(self, num: int) -> None:\n",
    "        if len(self.small) == len(self.large):\n",
    "            heappush(self.large, -heappushpop(self.small, -num))\n",
    "        else:\n",
    "            heappush(self.small, -heappushpop(self.large, num))    \n",
    "        \n",
    "\n",
    "    def findMedian(self) -> float:\n",
    "        if len(self.small) == len(self.large):\n",
    "            return (-self.small[0] + self.large[0]) / 2\n",
    "        else:\n",
    "            return float(self.large[0])"
   ]
  },
  {
   "cell_type": "code",
   "execution_count": 9,
   "metadata": {},
   "outputs": [],
   "source": [
    "import heapq\n",
    "\n",
    "def findKthLargest(nums,k):\n",
    "    min_heap = []\n",
    "    for num in nums:\n",
    "        heapq.heappush(min_heap, num)\n",
    "        if len(min_heap) > k:\n",
    "            heapq.heappop(min_heap)\n",
    "    return min_heap[0]"
   ]
  },
  {
   "cell_type": "code",
   "execution_count": 10,
   "metadata": {},
   "outputs": [
    {
     "name": "stdout",
     "output_type": "stream",
     "text": [
      "8\n"
     ]
    }
   ],
   "source": [
    "from collections import deque\n",
    "\n",
    "# Task Scheduler\n",
    "def leastInterval(tasks, n):\n",
    "    freq_dict = Counter(tasks)\n",
    "    max_heap = [-freq for freq in freq_dict.values()]\n",
    "    heapq.heapify(max_heap)\n",
    "\n",
    "    cooldown = deque()\n",
    "\n",
    "    time = 0\n",
    "\n",
    "    while max_heap or cooldown:\n",
    "        time = time + 1\n",
    "        \n",
    "        if max_heap:\n",
    "            freq = heapq.heappop(max_heap) + 1\n",
    "            if freq:\n",
    "                cooldown.append((freq, time+n))\n",
    "        \n",
    "        if cooldown and cooldown[0][1] == time:\n",
    "            heapq.heappush(max_heap, cooldown.popleft()[0])\n",
    "    return time\n",
    "tasks = [\"A\",\"A\",\"A\",\"B\",\"B\",\"B\"]\n",
    "n = 2\n",
    "print(leastInterval(tasks, n))"
   ]
  },
  {
   "cell_type": "code",
   "execution_count": 11,
   "metadata": {},
   "outputs": [
    {
     "name": "stdout",
     "output_type": "stream",
     "text": [
      "8\n"
     ]
    }
   ],
   "source": [
    "# greedy algorithm\n",
    "def leastInterval(tasks, n):\n",
    "    task_counts = Counter(tasks)\n",
    "    max_freq = max(task_counts.values())\n",
    "    max_count = sum(1 for task, freq in task_counts.items() if freq == max_freq)\n",
    "    # print(max_count)\n",
    "    intervals = (max_freq - 1) * (n + 1) + max_count    \n",
    "    return max(intervals, len(tasks))\n",
    "\n",
    "tasks = [\"A\",\"A\",\"A\",\"B\",\"B\",\"B\"]\n",
    "n = 2\n",
    "print(leastInterval(tasks, n))"
   ]
  }
 ],
 "metadata": {
  "kernelspec": {
   "display_name": "Python 3",
   "language": "python",
   "name": "python3"
  },
  "language_info": {
   "codemirror_mode": {
    "name": "ipython",
    "version": 3
   },
   "file_extension": ".py",
   "mimetype": "text/x-python",
   "name": "python",
   "nbconvert_exporter": "python",
   "pygments_lexer": "ipython3",
   "version": "3.12.0"
  }
 },
 "nbformat": 4,
 "nbformat_minor": 2
}
