{
 "cells": [
  {
   "cell_type": "code",
   "execution_count": 2,
   "metadata": {},
   "outputs": [],
   "source": [
    "from typing import List\n",
    "\n",
    "class Solution:\n",
    "    def insert(self, intervals: List[List[int]], newInterval: List[int]) -> List[List[int]]:\n",
    "        i = 0\n",
    "        result = []\n",
    "        while i < len(intervals) and intervals[i][1] < newInterval[0]:\n",
    "            result.append(intervals[i])\n",
    "            i += 1\n",
    "\n",
    "        while i < len(intervals) and intervals[i][0] <= newInterval[1]:\n",
    "            # run until start of interval is less than or equal to end of newinterval.\n",
    "            newInterval[0] = min(newInterval[0], intervals[i][0])\n",
    "            newInterval[1] = max(newInterval[1], intervals[i][1])\n",
    "            i += 1\n",
    "\n",
    "        result.append(newInterval)\n",
    "\n",
    "        while i < len(intervals):\n",
    "            result.append(intervals[i])\n",
    "            i += 1\n",
    "\n",
    "        return result"
   ]
  },
  {
   "cell_type": "code",
   "execution_count": 3,
   "metadata": {},
   "outputs": [
    {
     "name": "stdout",
     "output_type": "stream",
     "text": [
      "[[1, 6], [8, 10], [15, 18]]\n"
     ]
    }
   ],
   "source": [
    "class Solution:\n",
    "    def merge(self, intervals: List[List[int]]) -> List[List[int]]:\n",
    "        intervals.sort()\n",
    "        merged = []\n",
    "        for interval in intervals:\n",
    "            if not merged or merged[-1][1] < interval[0]:\n",
    "                merged.append(interval)\n",
    "            else:\n",
    "                merged[-1][1] = max(merged[-1][1], interval[1])\n",
    "            # print(merged)\n",
    "        return merged\n",
    "\n",
    "s = Solution()\n",
    "intervals = [[1,3],[2,6],[8,10],[15,18]]\n",
    "print(s.merge(intervals))\n"
   ]
  },
  {
   "cell_type": "code",
   "execution_count": 4,
   "metadata": {},
   "outputs": [],
   "source": [
    "class Solution:\n",
    "    def eraseOverlapIntervals(self, intervals: List[List[int]]) -> int:\n",
    "        intervals.sort(key = lambda x:x[1])\n",
    "        count = 0\n",
    "        end = float('-inf')\n",
    "        for s, e in intervals:\n",
    "            if s >= end:\n",
    "                end = e\n",
    "            else:\n",
    "                count = count + 1\n",
    "        return count"
   ]
  },
  {
   "cell_type": "code",
   "execution_count": 5,
   "metadata": {},
   "outputs": [
    {
     "name": "stdout",
     "output_type": "stream",
     "text": [
      "5\n"
     ]
    }
   ],
   "source": [
    "# You are given a read only array of n integers from 1 to n.\n",
    "# Each integer appears exactly once except A which appears twice and B which is missing.\n",
    "# Return A and B.\n",
    "\n",
    "def findDuplicate(nums):\n",
    "    result = 0\n",
    "    for i in range(1, len(nums)):\n",
    "        result = result ^ i\n",
    "    for i in nums:\n",
    "        result = result ^ i\n",
    "    return result\n",
    "\n",
    "nums = [1, 3, 5, 2, 4]\n",
    "print(findDuplicate(nums))"
   ]
  },
  {
   "cell_type": "code",
   "execution_count": 12,
   "metadata": {},
   "outputs": [
    {
     "name": "stdout",
     "output_type": "stream",
     "text": [
      "True\n"
     ]
    }
   ],
   "source": [
    "def meetingRoomI(intervals):\n",
    "    intervals.sort(key=lambda x:x[0])\n",
    "    for i in range(1, len(intervals)):\n",
    "        if intervals[i][0] < intervals[i-1][1]:\n",
    "            return False\n",
    "    return True\n",
    "\n",
    "intervals = [(0,4),(5,10),(15,20)]\n",
    "print(meetingRoomI(intervals))"
   ]
  },
  {
   "cell_type": "code",
   "execution_count": 8,
   "metadata": {},
   "outputs": [
    {
     "name": "stdout",
     "output_type": "stream",
     "text": [
      "2\n"
     ]
    }
   ],
   "source": [
    "import heapq\n",
    "\n",
    "def meetingRoomII(intervals):\n",
    "    #M-1 make a sorted list of start and end point and increment the count when encounter start vice-versa.\n",
    "    #M-2 heap keeps track of the earliest end times of ongoing meetings. By always replacing the earliest meeting that has ended. Time O(nlogn) and space o(k), k is size of the heap.\n",
    "    intervals.sort(key=lambda x:x[0])\n",
    "    min_heap = []\n",
    "    for interval in intervals:\n",
    "        if min_heap and min_heap[0] <= interval[0]:\n",
    "            heapq.heappop(min_heap)\n",
    "        heapq.heappush(min_heap, interval[1])\n",
    "        # print(min_heap)\n",
    "    return len(min_heap)\n",
    "\n",
    "intervals = [(0,40),(5,10),(15,20)]\n",
    "print(meetingRoomII(intervals))"
   ]
  }
 ],
 "metadata": {
  "kernelspec": {
   "display_name": "Python 3",
   "language": "python",
   "name": "python3"
  },
  "language_info": {
   "codemirror_mode": {
    "name": "ipython",
    "version": 3
   },
   "file_extension": ".py",
   "mimetype": "text/x-python",
   "name": "python",
   "nbconvert_exporter": "python",
   "pygments_lexer": "ipython3",
   "version": "3.12.0"
  }
 },
 "nbformat": 4,
 "nbformat_minor": 2
}
