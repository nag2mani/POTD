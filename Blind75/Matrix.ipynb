{
 "cells": [
  {
   "cell_type": "code",
   "execution_count": 1,
   "metadata": {},
   "outputs": [
    {
     "name": "stdout",
     "output_type": "stream",
     "text": [
      "[[1, 0, 3], [0, 0, 0], [7, 0, 9]]\n"
     ]
    }
   ],
   "source": [
    "def setZeroes(matrix):\n",
    "    rows, cols = len(matrix), len(matrix[0])\n",
    "    isFirstRowZero = any(matrix[0][j] == 0 for j in range(cols))\n",
    "    isFirstColZero = any(matrix[i][0] == 0 for i in range(rows))\n",
    "    \n",
    "    # Use the first row and column to mark zero rows and columns\n",
    "    for i in range(1, rows):\n",
    "        for j in range(1, cols):\n",
    "            if matrix[i][j] == 0:\n",
    "                matrix[i][0] = 0\n",
    "                matrix[0][j] = 0\n",
    "    \n",
    "    # Set matrix elements to zero based on markers\n",
    "    for i in range(1, rows):\n",
    "        for j in range(1, cols):\n",
    "            if matrix[i][0] == 0 or matrix[0][j] == 0:\n",
    "                matrix[i][j] = 0\n",
    "    \n",
    "    # Zero the first row if needed\n",
    "    if isFirstRowZero:\n",
    "        for j in range(cols):\n",
    "            matrix[0][j] = 0\n",
    "    \n",
    "    # Zero the first column if needed\n",
    "    if isFirstColZero:\n",
    "        for i in range(rows):\n",
    "            matrix[i][0] = 0\n",
    "\n",
    "# Example Usage\n",
    "matrix = [\n",
    "    [1, 2, 3],\n",
    "    [4, 0, 6],\n",
    "    [7, 8, 9]\n",
    "]\n",
    "setZeroes(matrix)\n",
    "print(matrix)"
   ]
  },
  {
   "cell_type": "code",
   "execution_count": null,
   "metadata": {},
   "outputs": [],
   "source": [
    "class Solution:\n",
    "    def spiralOrder(self, matrix: List[List[int]]) -> List[int]:\n",
    "        rows = len(matrix)\n",
    "        columns = len(matrix[0])\n",
    "        dir = 0\n",
    "        top = 0\n",
    "        left = 0\n",
    "        right = columns - 1\n",
    "        down = rows - 1\n",
    "        result = []\n",
    "        while ( left <= right and top <= down):\n",
    "            if dir == 0:\n",
    "                for i in range(left, right+1):\n",
    "                    result.append(matrix[top][i])\n",
    "                top +=1\n",
    "            elif dir == 1:\n",
    "                for j in range(top, down+1):\n",
    "                    result.append(matrix[j][right])\n",
    "                right -=1\n",
    "            elif dir == 2:\n",
    "                for k in range(right, left-1, -1):\n",
    "                    result.append(matrix[down][k])\n",
    "                down -=1\n",
    "            else:\n",
    "                for l in range(down, top-1, -1):\n",
    "                    result.append(matrix[l][left])\n",
    "                left +=1\n",
    "            dir = ( dir + 1 ) % 4\n",
    "        return result"
   ]
  },
  {
   "cell_type": "code",
   "execution_count": null,
   "metadata": {},
   "outputs": [],
   "source": [
    "class Solution:\n",
    "    def rotate(self, matrix: List[List[int]]) -> None:\n",
    "        \"\"\"\n",
    "        Do not return anything, modify matrix in-place instead.\n",
    "        \"\"\"\n",
    "        rows = len(matrix)\n",
    "        columns = len(matrix[0])\n",
    "\n",
    "        #Transpose\n",
    "        for i in range(rows):\n",
    "            j=i\n",
    "            while j < columns:\n",
    "                matrix[i][j], matrix[j][i] = matrix[j][i], matrix[i][j]\n",
    "                j+=1 \n",
    "\n",
    "        #Reverse\n",
    "        for k in range(columns//2):\n",
    "            for l in range(rows):\n",
    "                matrix[l][k], matrix[l][rows - k - 1] = matrix[l][rows - k - 1], matrix[l][k]\n"
   ]
  },
  {
   "cell_type": "code",
   "execution_count": null,
   "metadata": {},
   "outputs": [],
   "source": [
    "class Solution:\n",
    "    def exist(self, board: List[List[str]], word: str) -> bool:\n",
    "        rows = len(board)\n",
    "        columns = len(board[0])\n",
    "        path = set()\n",
    "\n",
    "        def dfs(row, column, i):\n",
    "            if i == len(word):\n",
    "                return True\n",
    "            if (row < 0 or column < 0 or row >= rows or column >= columns or board[row][column] != word[i] or (row, column) in path):\n",
    "                return False\n",
    "            path.add((row, column))\n",
    "            result = (dfs(row+1, column, i+1) or\n",
    "            dfs(row, column + 1, i+1) or\n",
    "            dfs(row-1, column, i+1) or\n",
    "            dfs(row, column -1, i+1))\n",
    "            path.remove((row, column))\n",
    "            return result\n",
    "\n",
    "        for row in range(rows):\n",
    "            for column in range(columns):\n",
    "                if dfs(row, column, 0):\n",
    "                    return True\n",
    "        return False\n",
    "        \n"
   ]
  }
 ],
 "metadata": {
  "kernelspec": {
   "display_name": "Python 3",
   "language": "python",
   "name": "python3"
  },
  "language_info": {
   "codemirror_mode": {
    "name": "ipython",
    "version": 3
   },
   "file_extension": ".py",
   "mimetype": "text/x-python",
   "name": "python",
   "nbconvert_exporter": "python",
   "pygments_lexer": "ipython3",
   "version": "3.12.0"
  }
 },
 "nbformat": 4,
 "nbformat_minor": 2
}
