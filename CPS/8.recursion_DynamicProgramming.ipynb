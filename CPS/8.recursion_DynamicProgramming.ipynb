{
 "cells": [
  {
   "cell_type": "code",
   "execution_count": 5,
   "metadata": {},
   "outputs": [
    {
     "name": "stdout",
     "output_type": "stream",
     "text": [
      "1\n"
     ]
    }
   ],
   "source": [
    "def countWay(n):\n",
    "    if n<0:\n",
    "        return 0\n",
    "    elif n==0:\n",
    "        return 1\n",
    "    else:\n",
    "        return countWay(n-1)+countWay(n-2)+countWay(n-3)\n",
    "\n",
    "n=0\n",
    "print(countWay(n))"
   ]
  },
  {
   "cell_type": "code",
   "execution_count": null,
   "metadata": {},
   "outputs": [
    {
     "name": "stdout",
     "output_type": "stream",
     "text": [
      "7\n"
     ]
    }
   ],
   "source": [
    "memo = [-1 for i in range(n+1)]\n",
    "\n",
    "def countWays(n, memo):\n",
    "    if n<0:\n",
    "        return 0\n",
    "    elif n==0:\n",
    "        return 1\n",
    "    elif memo[n] > -1:\n",
    "        return memo[n]\n",
    "    else:\n",
    "        memo[n] = countWays(n-1, memo)+countWays(n-2, memo)+countWays(n-3, memo)\n",
    "        return memo[n]\n",
    "\n",
    "print(countWays(4, memo))"
   ]
  },
  {
   "cell_type": "code",
   "execution_count": 2,
   "metadata": {},
   "outputs": [
    {
     "name": "stdout",
     "output_type": "stream",
     "text": [
      "['eat', 'tea', 'ate', 'tan', 'nat', 'bat']\n"
     ]
    }
   ],
   "source": [
    "def group_anagrams(arr):\n",
    "    # Dictionary to store sorted characters as keys and list of anagrams as values\n",
    "    anagram_map = {}\n",
    "\n",
    "    for string in arr:\n",
    "        # Sort the string to create a key\n",
    "        sorted_str = ''.join(sorted(string))\n",
    "        \n",
    "        # Append the original string to the list of its anagram group\n",
    "        if sorted_str in anagram_map:\n",
    "            anagram_map[sorted_str].append(string)\n",
    "        else:\n",
    "            anagram_map[sorted_str] = [string]\n",
    "\n",
    "    # Flatten the dictionary values to create the result list with grouped anagrams\n",
    "    result = []\n",
    "    for group in anagram_map.values():\n",
    "        result.extend(group)\n",
    "\n",
    "    return result\n",
    "\n",
    "# Example usage\n",
    "arr = [\"listen\", \"silent\", \"enlist\", \"rat\", \"tar\", \"god\", \"dog\"]\n",
    "arr = [\"eat\",\"tea\",\"tan\",\"ate\",\"nat\",\"bat\"]\n",
    "sorted_arr = group_anagrams(arr)\n",
    "print(sorted_arr)\n"
   ]
  }
 ],
 "metadata": {
  "kernelspec": {
   "display_name": "Python 3",
   "language": "python",
   "name": "python3"
  },
  "language_info": {
   "codemirror_mode": {
    "name": "ipython",
    "version": 3
   },
   "file_extension": ".py",
   "mimetype": "text/x-python",
   "name": "python",
   "nbconvert_exporter": "python",
   "pygments_lexer": "ipython3",
   "version": "3.12.0"
  }
 },
 "nbformat": 4,
 "nbformat_minor": 2
}
