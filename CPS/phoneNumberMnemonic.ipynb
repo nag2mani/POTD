{
 "cells": [
  {
   "cell_type": "code",
   "execution_count": 1,
   "metadata": {},
   "outputs": [],
   "source": [
    "def getLettersAt(digit):\n",
    "    digit_to_letters = {\n",
    "        '2': \"abc\",\n",
    "        '3': \"def\",\n",
    "        '4': \"ghi\",\n",
    "        '5': \"jkl\",\n",
    "        '6': \"mno\",\n",
    "        '7': \"pqrs\",\n",
    "        '8': \"tuv\",\n",
    "        '9': \"wxyz\"\n",
    "    }\n",
    "    # Return the letters for the digit if it's in the dictionary, else return an empty string\n",
    "    return digit_to_letters.get(digit, \"\")"
   ]
  },
  {
   "cell_type": "code",
   "execution_count": 5,
   "metadata": {},
   "outputs": [
    {
     "name": "stdout",
     "output_type": "stream",
     "text": [
      "['ad', 'ae', 'af', 'bd', 'be', 'bf', 'cd', 'ce', 'cf']\n"
     ]
    }
   ],
   "source": [
    "def getCombosStartingFrom(phone_number, index=0):\n",
    "    # Base case: if we reach the end of the phone number, return a list with an empty string\n",
    "    if index == len(phone_number):\n",
    "        return [\"\"]\n",
    "\n",
    "    # Skip 0 and 1 by moving to the next index\n",
    "    if phone_number[index] in ('0', '1'):\n",
    "        return getCombosStartingFrom(phone_number, index + 1)\n",
    "\n",
    "    # Recursive call to get combos from the next index\n",
    "    combos = getCombosStartingFrom(phone_number, index + 1)\n",
    "    to_add = getLettersAt(phone_number[index])\n",
    "    \n",
    "    result = []\n",
    "    \n",
    "    # Create new combinations by adding each letter in to_add to each of the combos\n",
    "    for prefix in to_add:\n",
    "        for combo in combos:\n",
    "            result.append(prefix + combo)\n",
    "    \n",
    "    return result\n",
    "\n",
    "# Example usage\n",
    "phone_number = \"203\"\n",
    "print(getCombosStartingFrom(phone_number))"
   ]
  }
 ],
 "metadata": {
  "kernelspec": {
   "display_name": "Python 3",
   "language": "python",
   "name": "python3"
  },
  "language_info": {
   "codemirror_mode": {
    "name": "ipython",
    "version": 3
   },
   "file_extension": ".py",
   "mimetype": "text/x-python",
   "name": "python",
   "nbconvert_exporter": "python",
   "pygments_lexer": "ipython3",
   "version": "3.12.0"
  }
 },
 "nbformat": 4,
 "nbformat_minor": 2
}
