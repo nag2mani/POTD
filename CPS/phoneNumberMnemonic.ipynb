{
 "cells": [
  {
   "cell_type": "code",
   "execution_count": 1,
   "metadata": {},
   "outputs": [],
   "source": [
    "def getLettersAt(digit):\n",
    "    digit_to_letters = {\n",
    "        '2': \"abc\",\n",
    "        '3': \"def\",\n",
    "        '4': \"ghi\",\n",
    "        '5': \"jkl\",\n",
    "        '6': \"mno\",\n",
    "        '7': \"pqrs\",\n",
    "        '8': \"tuv\",\n",
    "        '9': \"wxyz\"\n",
    "    }\n",
    "    # Return the letters for the digit if it's in the dictionary, else return an empty string\n",
    "    return digit_to_letters.get(digit, \"\")"
   ]
  },
  {
   "cell_type": "markdown",
   "metadata": {},
   "source": [
    "# Bottom Up Approach"
   ]
  },
  {
   "cell_type": "code",
   "execution_count": null,
   "metadata": {},
   "outputs": [
    {
     "name": "stdout",
     "output_type": "stream",
     "text": [
      "['ad', 'ae', 'af', 'bd', 'be', 'bf', 'cd', 'ce', 'cf']\n"
     ]
    }
   ],
   "source": [
    "def getCombosBottomUp(phone_number, index=0):\n",
    "    # Base case: if we reach the end of the phone number, return a list with an empty string\n",
    "    if index == len(phone_number):\n",
    "        return [\"\"]\n",
    "\n",
    "    # Skip 0 and 1 by moving to the next index\n",
    "    if phone_number[index] in ('0', '1'):\n",
    "        return getCombosBottomUp(phone_number, index + 1)\n",
    "\n",
    "    # Recursive call to get combos from the next index\n",
    "    combos = getCombosBottomUp(phone_number, index + 1)\n",
    "    to_add = getLettersAt(phone_number[index])\n",
    "    \n",
    "    result = []\n",
    "    \n",
    "    # Create new combinations by adding each letter in to_add to each of the combos\n",
    "    for prefix in to_add:\n",
    "        for combo in combos:\n",
    "            result.append(prefix + combo)\n",
    "    \n",
    "    return result\n",
    "\n",
    "# Example usage\n",
    "phone_number = \"203\"\n",
    "print(getCombosBottomUp(phone_number))"
   ]
  },
  {
   "cell_type": "code",
   "execution_count": 9,
   "metadata": {},
   "outputs": [
    {
     "name": "stdout",
     "output_type": "stream",
     "text": [
      "['ad', 'ae', 'af', 'bd', 'be', 'bf', 'cd', 'ce', 'cf']\n"
     ]
    }
   ],
   "source": [
    "def getCombosBottomUp(phone_number):\n",
    "    # Starting with a list containing an empty string as the initial \"combination\"\n",
    "    result = [\"\"]\n",
    "\n",
    "    # Iterate over each digit in the phone number\n",
    "    for digit in phone_number:\n",
    "        # Skip 0 and 1 as they have no corresponding letters\n",
    "        if digit in ('0', '1'):\n",
    "            continue\n",
    "        \n",
    "        # Get the letters for the current digit\n",
    "        letters = getLettersAt(digit)\n",
    "        \n",
    "        # Prepare a new list to store updated combinations\n",
    "        new_result = []\n",
    "        \n",
    "        # Add each letter to each existing combination\n",
    "        for combo in result:\n",
    "            for letter in letters:\n",
    "                new_result.append(combo + letter)\n",
    "        \n",
    "        # Update result with new combinations\n",
    "        result = new_result\n",
    "    \n",
    "    return result\n",
    "\n",
    "# Example usage\n",
    "phone_number = \"203\"\n",
    "print(getCombosBottomUp(phone_number))"
   ]
  },
  {
   "cell_type": "markdown",
   "metadata": {},
   "source": [
    "# Top Down Approach"
   ]
  },
  {
   "cell_type": "code",
   "execution_count": 8,
   "metadata": {},
   "outputs": [
    {
     "name": "stdout",
     "output_type": "stream",
     "text": [
      "['ad', 'ae', 'af', 'bd', 'be', 'bf', 'cd', 'ce', 'cf']\n"
     ]
    }
   ],
   "source": [
    "def printCombos(buffer, phone_number, index, result):\n",
    "    # Base case: if the index matches the buffer's length, store the result\n",
    "    if index == len(buffer):\n",
    "        result.append(\"\".join(buffer))\n",
    "        return\n",
    "\n",
    "    # Get the letters for the current digit\n",
    "    letters = getLettersAt(phone_number[index])\n",
    "\n",
    "    # If the digit is 0 or 1, skip it (it has no letters)\n",
    "    if not letters:\n",
    "        printCombos(buffer, phone_number, index + 1, result)\n",
    "        return\n",
    "\n",
    "    # For each letter corresponding to the current digit, add it to the buffer\n",
    "    for letter in letters:\n",
    "        buffer[index] = letter\n",
    "        # Recurse with the next index\n",
    "        printCombos(buffer, phone_number, index + 1, result)\n",
    "\n",
    "def getPhoneMnemonics(phone_number):\n",
    "    # Initialize a buffer with the same length as the phone number\n",
    "    buffer = [\"\"] * len(phone_number)\n",
    "    result = []\n",
    "    printCombos(buffer, phone_number, 0, result)\n",
    "    return result\n",
    "\n",
    "# Example usage\n",
    "phone_number = \"203\"\n",
    "print(getPhoneMnemonics(phone_number))"
   ]
  },
  {
   "cell_type": "code",
   "execution_count": 11,
   "metadata": {},
   "outputs": [
    {
     "name": "stdout",
     "output_type": "stream",
     "text": [
      "['ad', 'ae', 'af', 'bd', 'be', 'bf', 'cd', 'ce', 'cf']\n"
     ]
    }
   ],
   "source": [
    "def getCombosTopDown(phone_number):\n",
    "    # Starting with a list containing an empty string as the initial \"combination\"\n",
    "    result = [\"\"]\n",
    "\n",
    "    # Iterate over each digit in the phone number\n",
    "    for digit in phone_number:\n",
    "        # Skip 0 and 1\n",
    "        if digit in ('0', '1'):\n",
    "            continue\n",
    "        \n",
    "        # Get the letters for the current digit\n",
    "        letters = getLettersAt(digit)\n",
    "        \n",
    "        # Prepare a new list for the updated combinations\n",
    "        new_result = []\n",
    "        \n",
    "        # Add each letter to each combination so far\n",
    "        for combo in result:\n",
    "            for letter in letters:\n",
    "                new_result.append(combo + letter)\n",
    "        \n",
    "        # Update the result list with new combinations\n",
    "        result = new_result\n",
    "    \n",
    "    return result\n",
    "\n",
    "# Example usage\n",
    "phone_number = \"203\"\n",
    "print(getCombosTopDown(phone_number))"
   ]
  }
 ],
 "metadata": {
  "kernelspec": {
   "display_name": "Python 3",
   "language": "python",
   "name": "python3"
  },
  "language_info": {
   "codemirror_mode": {
    "name": "ipython",
    "version": 3
   },
   "file_extension": ".py",
   "mimetype": "text/x-python",
   "name": "python",
   "nbconvert_exporter": "python",
   "pygments_lexer": "ipython3",
   "version": "3.12.0"
  }
 },
 "nbformat": 4,
 "nbformat_minor": 2
}
