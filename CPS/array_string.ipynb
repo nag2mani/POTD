{
 "cells": [
  {
   "cell_type": "markdown",
   "metadata": {},
   "source": [
    "# Array & Strings"
   ]
  },
  {
   "cell_type": "markdown",
   "metadata": {},
   "source": [
    "### Comparison between lists and arrays in Python;\n",
    "\n",
    "1. List:\n",
    "Can store elements of different data types. You can have integers, strings, objects, etc., all in the same list.\n",
    "Example:\n",
    "my_list = [1, \"apple\", 3.14]\n",
    "\n",
    "2. Array:\n",
    "Typically stores elements of the same data type (this is enforced in some array implementations, like those in the array module or libraries like NumPy).\n",
    "Example:\n",
    "import arraymy_array = array.array('i', [1, 2, 3])  # Array of integers\n",
    "\n",
    "3. Time complexity of DIct, Set, List, Queue in python;\n",
    "Link : https://wiki.python.org/moin/TimeComplexity , https://stackoverflow.com/questions/17539367/python-dictionary-keys-in-complexity"
   ]
  },
  {
   "cell_type": "code",
   "execution_count": 12,
   "metadata": {},
   "outputs": [
    {
     "name": "stdout",
     "output_type": "stream",
     "text": [
      "convert all to lowercase\n",
      "HELLO MY FRIENDS\n"
     ]
    }
   ],
   "source": [
    "string = \"ConvErT ALL tO LoWErCASe\"\n",
    "print(string.lower())\n",
    "    \n",
    "txt = \"Hello my friends\"\n",
    "print(txt.upper())"
   ]
  },
  {
   "cell_type": "code",
   "execution_count": 1,
   "metadata": {},
   "outputs": [
    {
     "name": "stdout",
     "output_type": "stream",
     "text": [
      "False\n",
      "False\n"
     ]
    }
   ],
   "source": [
    "#Question 1.1\n",
    "# Is Unique: Implement an algorithm to determine if a string has all unique characters. What if you cannot use additional data structures? \n",
    "\n",
    "def checkUnique(s):\n",
    "    freqDict = {}\n",
    "    # Converted to lower case\n",
    "    for char in s.lower():\n",
    "        if char in freqDict:\n",
    "            # freqDict[char] = freqDict[char] + 1\n",
    "            return False\n",
    "        else:\n",
    "            freqDict[char] = 1\n",
    "    \n",
    "    for key in freqDict:\n",
    "        if freqDict[key] > 1:\n",
    "            return False\n",
    "    return True\n",
    "\n",
    "s = \"nagmNi\"\n",
    "print(checkUnique(s))\n",
    "\n",
    "\n",
    "# Without using an additional data structure;\n",
    "def checkUnique2(s):\n",
    "    new_str = \"\"\n",
    "    for i in s.lower():\n",
    "        if i in new_str:\n",
    "            return False\n",
    "        else:\n",
    "            new_str = new_str + i\n",
    "    return True\n",
    "\n",
    "s = \"nagmNi\"\n",
    "print(checkUnique2(s))"
   ]
  },
  {
   "cell_type": "code",
   "execution_count": 17,
   "metadata": {},
   "outputs": [
    {
     "name": "stdout",
     "output_type": "stream",
     "text": [
      "True\n"
     ]
    }
   ],
   "source": [
    "# Question 1.2\n",
    "# Check Permutation: Given two strings, write a method to decide if one is a permutation of the other.\n",
    "\n",
    "from collections import Counter\n",
    "\n",
    "def checkPermutation(s1, s2):\n",
    "    if len(s1) != len(s2):\n",
    "        return False\n",
    "    freq_s1 = Counter(s1)\n",
    "    freq_s2 = Counter(s2)\n",
    "    for i in freq_s1:\n",
    "        if freq_s1[i] != freq_s2[i]:\n",
    "            return False\n",
    "    return True\n",
    "\n",
    "s1 = \"nagu\"\n",
    "s2 = \"ugna\"\n",
    "print(checkPermutation(s1, s2))"
   ]
  },
  {
   "cell_type": "code",
   "execution_count": 14,
   "metadata": {},
   "outputs": [
    {
     "name": "stdout",
     "output_type": "stream",
     "text": [
      "19\n",
      "Mr%20John%20Smith%20\n"
     ]
    }
   ],
   "source": [
    "# Question 1.3\n",
    "# URLify: Write a method to replace all spaces in a string with'%20'You may assume that the string has sufficient space at the end to hold the additional characters, and that you are given the \"true\" length of the string, (Note: if implementing in Java, please use a character array so that you can perform this operation in place.) \n",
    "\n",
    "\n",
    "def swap(s, idx1, idx2):\n",
    "    temp = s[idx1]\n",
    "    s[idx1] = s[idx2]\n",
    "    s[idx2] = temp\n",
    "\n",
    "def urlify(s, trueLength):\n",
    "    no_of_spaces = (len(s) - trueLength)//2\n",
    "    url = \"\"\n",
    "    for i in s:\n",
    "        if i == \" \" and no_of_spaces > 0:\n",
    "            url += \"%20\"\n",
    "            no_of_spaces = no_of_spaces - 1\n",
    "        elif i != \" \":\n",
    "            url += i\n",
    "    return url\n",
    "\n",
    "s = \"Mr John Smith      \"\n",
    "print(len(s))\n",
    "trueLength = 13\n",
    "print(urlify(s, trueLength))"
   ]
  },
  {
   "cell_type": "code",
   "execution_count": 3,
   "metadata": {},
   "outputs": [
    {
     "name": "stdout",
     "output_type": "stream",
     "text": [
      "True\n"
     ]
    }
   ],
   "source": [
    "# Question 1.4 (Ignore Spaces and case sensitive)\n",
    "# Palindrome Permutation: Given a string, write a function to check if it is a permutation of a palindrome. A palindrome is a word or phrase that is the same forwards and backwards, A permutation is a rearrangement of letters. The palindrome does not need to be limited to just dictionary words. \n",
    "\n",
    "from collections import Counter\n",
    "\n",
    "def permutationOfPalindrome(s):\n",
    "    count = 0\n",
    "    freq_array = Counter(s.lower())\n",
    "    # print(freq_array)\n",
    "    for key in freq_array:\n",
    "        if key != \" \" and freq_array[key]%2 !=0:\n",
    "            count = count + 1\n",
    "    if count == 1:\n",
    "        return True\n",
    "    else:\n",
    "        return False\n",
    "\n",
    "s = \"Tact Coa\"\n",
    "print(permutationOfPalindrome(s))"
   ]
  },
  {
   "cell_type": "code",
   "execution_count": 8,
   "metadata": {},
   "outputs": [
    {
     "name": "stdout",
     "output_type": "stream",
     "text": [
      "True\n"
     ]
    }
   ],
   "source": [
    "# Question 1.5\n",
    "# One Away: There are three types of edits that can be performed on strings: insert a character, remove a character, or replace a character. Given two strings, write a function to check if they are one edit (or zero edits) away. \n",
    "\n",
    "\n",
    "def oneAway(s1,s2):\n",
    "    if abs(len(s1) - len(s2)) > 1:\n",
    "        return False\n",
    "    min_len = len(s1) if len(s1) < len(s2) else len(s2)\n",
    "\n",
    "    s1_idx = 0\n",
    "    s2_idx = 0\n",
    "    edits = 0\n",
    "\n",
    "    while (s1_idx < min_len and s2_idx < min_len):\n",
    "        if s1[s1_idx] != s2[s2_idx]:\n",
    "            edits = edits + 1\n",
    "            if edits > 1:\n",
    "                return False\n",
    "            if len(s1) > len(s2):\n",
    "                s1_idx += 1\n",
    "            elif len(s1) < len(s2):\n",
    "                s2_idx += 1\n",
    "            else:\n",
    "                s1_idx += 1\n",
    "                s2_idx += 1\n",
    "        else:\n",
    "            s1_idx += 1\n",
    "            s2_idx += 1\n",
    "\n",
    "    return True\n",
    "\n",
    "s1 = \"pale\"\n",
    "s2 = \"bale\"\n",
    "print(oneAway(s1,s2))"
   ]
  },
  {
   "cell_type": "code",
   "execution_count": 41,
   "metadata": {},
   "outputs": [
    {
     "name": "stdout",
     "output_type": "stream",
     "text": [
      "a2b1c5a2\n"
     ]
    }
   ],
   "source": [
    "# Question 1.6\n",
    "# String Compression: Implement a method to perform basic string compression using the counts of repeated characters. For example, the string aabcccccaaa would become a2blc5a3. If the  \"compressed \"string would not become smaller than the original string, your method should return the original string. You can assume the string has only uppercase and lowercase letters (a - z), \n",
    "\n",
    "def stringCompression(s):\n",
    "\n",
    "    result = \"\"\n",
    "    count = 0\n",
    "    p = 0\n",
    "    n = 1\n",
    "\n",
    "    while (n < len(s)):\n",
    "        if s[n] == s[p]:\n",
    "            count += 1\n",
    "            if n == len(s) - 1:\n",
    "                result += s[p] + str(count + 1)\n",
    "            p += 1\n",
    "            n += 1\n",
    "        else:\n",
    "            result += s[p] + str(count + 1)\n",
    "            count = 0\n",
    "            p += 1\n",
    "            n += 1\n",
    "    return result\n",
    "\n",
    "s = \"aabcccccaa\"\n",
    "print(stringCompression(s))"
   ]
  },
  {
   "cell_type": "code",
   "execution_count": 8,
   "metadata": {},
   "outputs": [
    {
     "name": "stdout",
     "output_type": "stream",
     "text": [
      "[[7, 4, 1], [8, 5, 2], [9, 6, 3]]\n"
     ]
    }
   ],
   "source": [
    "# Question 1.7\n",
    "# Rotate Matrix: Given an image represented by an NxN matrix, where each pixel in the image is 4 bytes, write a method to rotate the image by 90 degrees. Can you do this in place?\n",
    "\n",
    "\n",
    "def rotate(matrix):\n",
    "    for i, row in enumerate(zip(*matrix)):\n",
    "        matrix[i] = list(reversed(row))\n",
    "    return matrix\n",
    "\n",
    "matrix = [[1,2,3],[4,5,6],[7,8,9]]\n",
    "# print(rotate(matrix))\n",
    "\n",
    "\n",
    "#Method-2 (Not Inplace)\n",
    "def rotate(matrix):\n",
    "    m = len(matrix)\n",
    "    n = len(matrix[0])\n",
    "    new_mat = [[0]*n for _ in range(m)]\n",
    "\n",
    "    for row in range(m):\n",
    "        for column in range(n):\n",
    "            new_mat[column][n - row - 1] = matrix[row][column]\n",
    "    \n",
    "    for row in range(m):\n",
    "        for column in range(n):\n",
    "            matrix[row][column] = new_mat[row][column]\n",
    "    return matrix\n",
    "\n",
    "matrix = [[1,2,3],[4,5,6],[7,8,9]]\n",
    "print(rotate(matrix))\n",
    "\n",
    "#Method-3 (Inplace)\n",
    "\n",
    "def rotate2(matrix):\n",
    "    n = len(matrix)\n",
    "\n",
    "    for layer in range(n // 2):\n",
    "        first = layer\n",
    "        last = n - 1 - layer\n",
    "        for i in range(first, last):\n",
    "            offset = i - first\n",
    "\n",
    "            # save the top element\n",
    "            top = matrix[first][i]\n",
    "\n",
    "            # left -> top\n",
    "            matrix[first][i] = matrix[last - offset][first]\n",
    "\n",
    "            # bottom -> left\n",
    "            matrix[last - offset][first] = matrix[last][last - offset]\n",
    "\n",
    "            # right -> bottom\n",
    "            matrix[last][last - offset] = matrix[i][last]\n",
    "\n",
    "            # top -> right\n",
    "            matrix[i][last] = top\n",
    "\n",
    "matrix = [[1,2,3],[4,5,6],[7,8,9]]\n",
    "# rotate2(matrix)\n",
    "# print(matrix)\n",
    "\n",
    "\n",
    "#Method-4\n",
    "#Convert Row into column then reverse the row"
   ]
  },
  {
   "cell_type": "code",
   "execution_count": null,
   "metadata": {},
   "outputs": [],
   "source": [
    "# Question 1.8\n",
    "# Zero Matrix: Write an algorithm such that if an element in an MxN matrix is 0, its entire row and column are set to 0,\n",
    "\n"
   ]
  },
  {
   "cell_type": "code",
   "execution_count": null,
   "metadata": {},
   "outputs": [],
   "source": [
    "# Question 1.9\n",
    "# String Rotation; Assume you have a method isSubstring which checks if one word is a substring of another. Given two strings, si and s2, write code to check if s2 is a rotation of si using only one call to isSubstring (e.g.,\"waterbottle\"isa rotation of'erbottlewat\").\n",
    "\n"
   ]
  }
 ],
 "metadata": {
  "kernelspec": {
   "display_name": "Python 3",
   "language": "python",
   "name": "python3"
  },
  "language_info": {
   "codemirror_mode": {
    "name": "ipython",
    "version": 3
   },
   "file_extension": ".py",
   "mimetype": "text/x-python",
   "name": "python",
   "nbconvert_exporter": "python",
   "pygments_lexer": "ipython3",
   "version": "3.12.0"
  }
 },
 "nbformat": 4,
 "nbformat_minor": 2
}
