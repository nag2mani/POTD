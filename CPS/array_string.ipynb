{
 "cells": [
  {
   "cell_type": "markdown",
   "metadata": {},
   "source": [
    "# Array & Strings"
   ]
  },
  {
   "cell_type": "markdown",
   "metadata": {},
   "source": [
    "### Comparison between lists and arrays in Python;\n",
    "\n",
    "1. List:\n",
    "Can store elements of different data types. You can have integers, strings, objects, etc., all in the same list.\n",
    "Example:\n",
    "my_list = [1, \"apple\", 3.14]\n",
    "\n",
    "2. Array:\n",
    "Typically stores elements of the same data type (this is enforced in some array implementations, like those in the array module or libraries like NumPy).\n",
    "Example:\n",
    "import arraymy_array = array.array('i', [1, 2, 3])  # Array of integers\n",
    "\n",
    "3. Time complexity of DIct, Set, List, Queue in python;\n",
    "Link : https://wiki.python.org/moin/TimeComplexity , https://stackoverflow.com/questions/17539367/python-dictionary-keys-in-complexity"
   ]
  },
  {
   "cell_type": "code",
   "execution_count": 12,
   "metadata": {},
   "outputs": [
    {
     "name": "stdout",
     "output_type": "stream",
     "text": [
      "convert all to lowercase\n",
      "HELLO MY FRIENDS\n"
     ]
    }
   ],
   "source": [
    "string = \"ConvErT ALL tO LoWErCASe\"\n",
    "print(string.lower())\n",
    "    \n",
    "txt = \"Hello my friends\"\n",
    "print(txt.upper())"
   ]
  },
  {
   "cell_type": "code",
   "execution_count": 1,
   "metadata": {},
   "outputs": [
    {
     "name": "stdout",
     "output_type": "stream",
     "text": [
      "False\n",
      "False\n"
     ]
    }
   ],
   "source": [
    "#Question 1.1\n",
    "\n",
    "def checkUnique(s):\n",
    "    freqDict = {}\n",
    "    # Converted to lower case\n",
    "    for char in s.lower():\n",
    "        if char in freqDict:\n",
    "            # freqDict[char] = freqDict[char] + 1\n",
    "            return False\n",
    "        else:\n",
    "            freqDict[char] = 1\n",
    "    \n",
    "    for key in freqDict:\n",
    "        if freqDict[key] > 1:\n",
    "            return False\n",
    "    return True\n",
    "\n",
    "s = \"nagmNi\"\n",
    "print(checkUnique(s))\n",
    "\n",
    "\n",
    "# Without using an additional data structure;\n",
    "def checkUnique2(s):\n",
    "    new_str = \"\"\n",
    "    for i in s.lower():\n",
    "        if i in new_str:\n",
    "            return False\n",
    "        else:\n",
    "            new_str = new_str + i\n",
    "    return True\n",
    "\n",
    "s = \"nagmNi\"\n",
    "print(checkUnique2(s))"
   ]
  },
  {
   "cell_type": "code",
   "execution_count": 17,
   "metadata": {},
   "outputs": [
    {
     "name": "stdout",
     "output_type": "stream",
     "text": [
      "True\n"
     ]
    }
   ],
   "source": [
    "# Question 1.2\n",
    "from collections import Counter\n",
    "\n",
    "def checkPermutation(s1, s2):\n",
    "    if len(s1) != len(s2):\n",
    "        return False\n",
    "    freq_s1 = Counter(s1)\n",
    "    freq_s2 = Counter(s2)\n",
    "    for i in freq_s1:\n",
    "        if freq_s1[i] != freq_s2[i]:\n",
    "            return False\n",
    "    return True\n",
    "\n",
    "s1 = \"nagu\"\n",
    "s2 = \"ugna\"\n",
    "print(checkPermutation(s1, s2))"
   ]
  },
  {
   "cell_type": "code",
   "execution_count": 14,
   "metadata": {},
   "outputs": [
    {
     "name": "stdout",
     "output_type": "stream",
     "text": [
      "19\n",
      "Mr%20John%20Smith%20\n"
     ]
    }
   ],
   "source": [
    "# Question 1.3\n",
    "\n",
    "def swap(s, idx1, idx2):\n",
    "    temp = s[idx1]\n",
    "    s[idx1] = s[idx2]\n",
    "    s[idx2] = temp\n",
    "\n",
    "def urlify(s, trueLength):\n",
    "    no_of_spaces = (len(s) - trueLength)//2\n",
    "    url = \"\"\n",
    "    for i in s:\n",
    "        if i == \" \" and no_of_spaces > 0:\n",
    "            url += \"%20\"\n",
    "            no_of_spaces = no_of_spaces - 1\n",
    "        elif i != \" \":\n",
    "            url += i\n",
    "    return url\n",
    "\n",
    "s = \"Mr John Smith      \"\n",
    "print(len(s))\n",
    "trueLength = 13\n",
    "print(urlify(s, trueLength))"
   ]
  },
  {
   "cell_type": "code",
   "execution_count": 3,
   "metadata": {},
   "outputs": [
    {
     "name": "stdout",
     "output_type": "stream",
     "text": [
      "True\n"
     ]
    }
   ],
   "source": [
    "# Question 1.4 (Ignore Spaces and case sensitive)\n",
    "from collections import Counter\n",
    "\n",
    "def permutationOfPalindrome(s):\n",
    "    count = 0\n",
    "    freq_array = Counter(s.lower())\n",
    "    # print(freq_array)\n",
    "    for key in freq_array:\n",
    "        if key != \" \" and freq_array[key]%2 !=0:\n",
    "            count = count + 1\n",
    "    if count == 1:\n",
    "        return True\n",
    "    else:\n",
    "        return False\n",
    "\n",
    "s = \"Tact Coa\"\n",
    "print(permutationOfPalindrome(s))"
   ]
  },
  {
   "cell_type": "code",
   "execution_count": 8,
   "metadata": {},
   "outputs": [
    {
     "name": "stdout",
     "output_type": "stream",
     "text": [
      "True\n"
     ]
    }
   ],
   "source": [
    "# Question 1.5\n",
    "\n",
    "def oneAway(s1,s2):\n",
    "    if abs(len(s1) - len(s2)) > 1:\n",
    "        return False\n",
    "    min_len = len(s1) if len(s1) < len(s2) else len(s2)\n",
    "\n",
    "    s1_idx = 0\n",
    "    s2_idx = 0\n",
    "    edits = 0\n",
    "\n",
    "    while (s1_idx < min_len and s2_idx < min_len):\n",
    "        if s1[s1_idx] != s2[s2_idx]:\n",
    "            edits = edits + 1\n",
    "            if edits > 1:\n",
    "                return False\n",
    "            if len(s1) > len(s2):\n",
    "                s1_idx += 1\n",
    "            elif len(s1) < len(s2):\n",
    "                s2_idx += 1\n",
    "            else:\n",
    "                s1_idx += 1\n",
    "                s2_idx += 1\n",
    "        else:\n",
    "            s1_idx += 1\n",
    "            s2_idx += 1\n",
    "\n",
    "    return True\n",
    "\n",
    "s1 = \"pale\"\n",
    "s2 = \"bale\"\n",
    "print(oneAway(s1,s2))"
   ]
  },
  {
   "cell_type": "code",
   "execution_count": 41,
   "metadata": {},
   "outputs": [
    {
     "name": "stdout",
     "output_type": "stream",
     "text": [
      "a2b1c5a2\n"
     ]
    }
   ],
   "source": [
    "# Question 1.6\n",
    "\n",
    "def stringCompression(s):\n",
    "\n",
    "    result = \"\"\n",
    "    count = 0\n",
    "    p = 0\n",
    "    n = 1\n",
    "\n",
    "    while (n < len(s)):\n",
    "        if s[n] == s[p]:\n",
    "            count += 1\n",
    "            if n == len(s) - 1:\n",
    "                result += s[p] + str(count + 1)\n",
    "            p += 1\n",
    "            n += 1\n",
    "        else:\n",
    "            result += s[p] + str(count + 1)\n",
    "            count = 0\n",
    "            p += 1\n",
    "            n += 1\n",
    "    return result\n",
    "\n",
    "s = \"aabcccccaa\"\n",
    "print(stringCompression(s))"
   ]
  },
  {
   "cell_type": "code",
   "execution_count": 39,
   "metadata": {},
   "outputs": [
    {
     "name": "stdout",
     "output_type": "stream",
     "text": [
      "[[7, 4, 1], [8, 5, 2], [9, 6, 3]]\n"
     ]
    }
   ],
   "source": [
    "# Question 1.7\n",
    "\n",
    "def rotate(matrix):\n",
    "    for i, row in enumerate(zip(*matrix)):\n",
    "        matrix[i] = list(reversed(row))\n",
    "\n",
    "matrix = [[1,2,3],[4,5,6],[7,8,9]]\n",
    "rotate(matrix)\n",
    "print(matrix)\n",
    "\n",
    "\n",
    "#Method-2\n",
    "def rotate(matrix):\n",
    "    pass\n"
   ]
  },
  {
   "cell_type": "code",
   "execution_count": null,
   "metadata": {},
   "outputs": [],
   "source": [
    "# Question 1.8\n",
    "\n"
   ]
  },
  {
   "cell_type": "code",
   "execution_count": null,
   "metadata": {},
   "outputs": [],
   "source": [
    "# Question 1.9\n",
    "\n"
   ]
  }
 ],
 "metadata": {
  "kernelspec": {
   "display_name": "Python 3",
   "language": "python",
   "name": "python3"
  },
  "language_info": {
   "codemirror_mode": {
    "name": "ipython",
    "version": 3
   },
   "file_extension": ".py",
   "mimetype": "text/x-python",
   "name": "python",
   "nbconvert_exporter": "python",
   "pygments_lexer": "ipython3",
   "version": "3.12.0"
  }
 },
 "nbformat": 4,
 "nbformat_minor": 2
}
