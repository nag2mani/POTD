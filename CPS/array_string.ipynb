{
 "cells": [
  {
   "cell_type": "markdown",
   "metadata": {},
   "source": [
    "# Array & Strings"
   ]
  },
  {
   "cell_type": "markdown",
   "metadata": {},
   "source": [
    "### Comparison between lists and arrays in Python;\n",
    "\n",
    "1. List:\n",
    "Can store elements of different data types. You can have integers, strings, objects, etc., all in the same list.\n",
    "Example:\n",
    "my_list = [1, \"apple\", 3.14]\n",
    "\n",
    "2. Array:\n",
    "Typically stores elements of the same data type (this is enforced in some array implementations, like those in the array module or libraries like NumPy).\n",
    "Example:\n",
    "import arraymy_array = array.array('i', [1, 2, 3])  # Array of integers\n",
    "\n",
    "3. Time complexity of DIct, Set, List, Queue in python;\n",
    "Link : https://wiki.python.org/moin/TimeComplexity , https://stackoverflow.com/questions/17539367/python-dictionary-keys-in-complexity"
   ]
  },
  {
   "cell_type": "code",
   "execution_count": 12,
   "metadata": {},
   "outputs": [
    {
     "name": "stdout",
     "output_type": "stream",
     "text": [
      "convert all to lowercase\n",
      "HELLO MY FRIENDS\n"
     ]
    }
   ],
   "source": [
    "string = \"ConvErT ALL tO LoWErCASe\"\n",
    "print(string.lower())\n",
    "    \n",
    "txt = \"Hello my friends\"\n",
    "print(txt.upper())"
   ]
  },
  {
   "cell_type": "code",
   "execution_count": 11,
   "metadata": {},
   "outputs": [
    {
     "name": "stdout",
     "output_type": "stream",
     "text": [
      "False\n",
      "False\n"
     ]
    }
   ],
   "source": [
    "#Question 1.1\n",
    "\n",
    "def checkUnique(s):\n",
    "    freqDict = {}\n",
    "    # Converted to lower case\n",
    "    for char in s.lower():\n",
    "        if char in freqDict:\n",
    "            freqDict[char] = freqDict[char] + 1\n",
    "        else:\n",
    "            freqDict[char] = 1\n",
    "    \n",
    "    for key in freqDict:\n",
    "        if freqDict[key] > 1:\n",
    "            return False\n",
    "    return True\n",
    "\n",
    "s = \"nagmNi\"\n",
    "print(checkUnique(s))\n",
    "\n",
    "\n",
    "# Without using an additional data structure;\n",
    "def checkUnique2(s):\n",
    "    new_str = \"\"\n",
    "    for i in s.lower():\n",
    "        if i in new_str:\n",
    "            return False\n",
    "        else:\n",
    "            new_str = new_str + i\n",
    "    return True\n",
    "\n",
    "s = \"nagmNi\"\n",
    "print(checkUnique2(s))"
   ]
  },
  {
   "cell_type": "code",
   "execution_count": 17,
   "metadata": {},
   "outputs": [
    {
     "name": "stdout",
     "output_type": "stream",
     "text": [
      "True\n"
     ]
    }
   ],
   "source": [
    "# Question 1.2\n",
    "from collections import Counter\n",
    "\n",
    "def checkPermutation(s1, s2):\n",
    "    if len(s1) != len(s2):\n",
    "        return False\n",
    "    freq_s1 = Counter(s1)\n",
    "    freq_s2 = Counter(s2)\n",
    "    for i in freq_s1:\n",
    "        if freq_s1[i] != freq_s2[i]:\n",
    "            return False\n",
    "    return True\n",
    "\n",
    "s1 = \"nagu\"\n",
    "s2 = \"ugna\"\n",
    "print(checkPermutation(s1, s2))"
   ]
  },
  {
   "cell_type": "code",
   "execution_count": 1,
   "metadata": {},
   "outputs": [
    {
     "name": "stdout",
     "output_type": "stream",
     "text": [
      "I%20love%20India\n"
     ]
    }
   ],
   "source": [
    "# Question 1.3\n",
    "\n",
    "s = \"I love India\"\n",
    "n = len(s)\n",
    "\n",
    "def swap(s, idx1, idx2):\n",
    "    temp = s[idx1]\n",
    "    s[idx1] = s[idx2]\n",
    "    s[idx2] = temp\n",
    "\n",
    "# Without Inplace.\n",
    "def urlify(s):\n",
    "    url = \"\"\n",
    "    for i in s:\n",
    "        if i==\" \":\n",
    "            url += \"%20\"\n",
    "        else:\n",
    "            url += i\n",
    "    return url\n",
    "\n",
    "print(urlify(s))\n",
    "\n",
    "#Inplace solution.\n",
    "def urlify(s, trueLength):\n",
    "    # trueLength is no. of spaces to fill + no. of chars\n",
    "    spaces = (len(s) - trueLength)//3\n",
    "    for i in range(len(s)-1, -1, -1):\n",
    "        if s[i] != \" \":\n",
    "            continue\n",
    "        else:\n",
    "            s[i] = \"0\"\n"
   ]
  },
  {
   "cell_type": "code",
   "execution_count": null,
   "metadata": {},
   "outputs": [],
   "source": [
    "# Question 1.4\n"
   ]
  },
  {
   "cell_type": "code",
   "execution_count": null,
   "metadata": {},
   "outputs": [],
   "source": [
    "# Question 1.5"
   ]
  },
  {
   "cell_type": "code",
   "execution_count": null,
   "metadata": {},
   "outputs": [],
   "source": [
    "# Question 1.6"
   ]
  },
  {
   "cell_type": "code",
   "execution_count": null,
   "metadata": {},
   "outputs": [],
   "source": [
    "# Question 1.7\n",
    "\n"
   ]
  },
  {
   "cell_type": "code",
   "execution_count": 9,
   "metadata": {},
   "outputs": [
    {
     "name": "stdout",
     "output_type": "stream",
     "text": [
      "[(1, 4, 7), (2, 5, 8), (3, 6, 9)]\n",
      "[[1, 2, 3], [4, 5, 6], [7, 8, 9]]\n"
     ]
    }
   ],
   "source": [
    "def rotate(matrix):\n",
    "    transpose = zip(*matrix)\n",
    "    # print(list(transpose))\n",
    "    for i, row in enumerate(transpose):\n",
    "        matrix[i] = list(reversed(row))\n",
    "\n",
    "matrix = [[1,2,3],[4,5,6],[7,8,9]]\n",
    "rotate(matrix)\n",
    "print(list(matrix))"
   ]
  }
 ],
 "metadata": {
  "kernelspec": {
   "display_name": "Python 3",
   "language": "python",
   "name": "python3"
  },
  "language_info": {
   "codemirror_mode": {
    "name": "ipython",
    "version": 3
   },
   "file_extension": ".py",
   "mimetype": "text/x-python",
   "name": "python",
   "nbconvert_exporter": "python",
   "pygments_lexer": "ipython3",
   "version": "3.12.0"
  }
 },
 "nbformat": 4,
 "nbformat_minor": 2
}
