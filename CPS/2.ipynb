{
 "cells": [
  {
   "cell_type": "code",
   "execution_count": null,
   "metadata": {},
   "outputs": [],
   "source": [
    "# Q. Check if Does a string have all Unique character.\n",
    "\n",
    "def isUniqueString(s):\n",
    "    freq_counter = {}\n",
    "    for i in s:\n",
    "        if i not in freq_counter:\n",
    "            freq_counter[i] = 1\n",
    "        else:\n",
    "            freq_counter[i] = freq_counter[i] + 1\n",
    "    \n",
    "    for key in freq_counter:\n",
    "        if (freq_counter[key] != 1):\n",
    "            return False\n",
    "    return True"
   ]
  },
  {
   "cell_type": "code",
   "execution_count": null,
   "metadata": {},
   "outputs": [],
   "source": [
    "# Q. Given two string check if it is it's permutation.\n",
    "\n",
    "from collections import Counter\n",
    "\n",
    "def checkPermutation(s1, s2):\n",
    "    if len(s1) != len(s2):\n",
    "        return False\n",
    "    frq_s1 = Counter(s1)\n",
    "    frq_s2 = Counter(s2)\n",
    "    for key in frq_s1:\n",
    "        if key not in frq_s2:\n",
    "            return False\n",
    "        else:\n",
    "            if frq_s1[key] != frq_s2[key]:\n",
    "                return False\n",
    "    return True"
   ]
  }
 ],
 "metadata": {
  "language_info": {
   "name": "python"
  }
 },
 "nbformat": 4,
 "nbformat_minor": 2
}
