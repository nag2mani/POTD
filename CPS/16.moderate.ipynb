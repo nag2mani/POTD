{
 "cells": [
  {
   "cell_type": "code",
   "execution_count": 2,
   "metadata": {},
   "outputs": [
    {
     "name": "stdout",
     "output_type": "stream",
     "text": [
      "The unsorted subarray which makes the given array\n",
      "sorted lies between the indexes 3 and 9\n"
     ]
    }
   ],
   "source": [
    "def printUnsorted(arr, n):\n",
    "    e = n-1\n",
    "    # step 1(a) of above algo\n",
    "    for s in range(0,n-1):\n",
    "        if arr[s] > arr[s+1]:\n",
    "            break\n",
    "        \n",
    "    if s == n-1:\n",
    "        print (\"The complete array is sorted\")\n",
    "        exit()\n",
    "\n",
    "    # step 1(b) of above algo\n",
    "    e= n-1\n",
    "    while e > 0:\n",
    "        if arr[e] < arr[e-1]:\n",
    "            break\n",
    "        e -= 1\n",
    "\n",
    "    # step 2(a) of above algo\n",
    "    max = arr[s]\n",
    "    min = arr[s]\n",
    "    for i in range(s+1,e+1):\n",
    "        if arr[i] > max:\n",
    "            max = arr[i]\n",
    "        if arr[i] < min:\n",
    "            min = arr[i]\n",
    "            \n",
    "    # step 2(b) of above algo\n",
    "    for i in range(s):\n",
    "        if arr[i] > min:\n",
    "            s = i\n",
    "            break\n",
    "\n",
    "    # step 2(c) of above algo\n",
    "    i = n-1\n",
    "    while i >= e+1:\n",
    "        if arr[i] < max:\n",
    "            e = i\n",
    "            break\n",
    "        i -= 1\n",
    "    \n",
    "    # step 3 of above algo\n",
    "    print (\"The unsorted subarray which makes the given array\")\n",
    "    print (\"sorted lies between the indexes %d and %d\"%( s, e))\n",
    "\n",
    "# arr = [10, 12, 20, 30, 25, 40, 32, 31, 35, 50, 60]\n",
    "arr = [1,2,4,7,10,11,7,12,6,7,16,18,19]\n",
    "arr_size = len(arr)\n",
    "printUnsorted(arr, arr_size)"
   ]
  }
 ],
 "metadata": {
  "kernelspec": {
   "display_name": "Python 3",
   "language": "python",
   "name": "python3"
  },
  "language_info": {
   "codemirror_mode": {
    "name": "ipython",
    "version": 3
   },
   "file_extension": ".py",
   "mimetype": "text/x-python",
   "name": "python",
   "nbconvert_exporter": "python",
   "pygments_lexer": "ipython3",
   "version": "3.12.0"
  }
 },
 "nbformat": 4,
 "nbformat_minor": 2
}
