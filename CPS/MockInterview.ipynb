{
 "cells": [
  {
   "cell_type": "code",
   "execution_count": null,
   "metadata": {},
   "outputs": [
    {
     "name": "stdout",
     "output_type": "stream",
     "text": [
      "['((()))', '(()())', '(())()', '()(())', '()()()']\n"
     ]
    }
   ],
   "source": [
    "def generateParenthesis(n):\n",
    "    result = []\n",
    "\n",
    "    def backtrack(s, openCount, closeCount):\n",
    "        if len(s)==2*n:\n",
    "            result.append(s)\n",
    "            return\n",
    "        \n",
    "        if openCount < n:\n",
    "            backtrack(s + '(', openCount+1, closeCount)\n",
    "        if closeCount < openCount:\n",
    "            backtrack(s + ')', openCount, closeCount+1)\n",
    "        \n",
    "    backtrack(\"\", 0, 0)\n",
    "    return result\n",
    "\n",
    "n = 3\n",
    "print(generateParenthesis(n))"
   ]
  },
  {
   "cell_type": "code",
   "execution_count": null,
   "metadata": {},
   "outputs": [],
   "source": [
    "def isValid(s):\n",
    "    stack = []\n",
    "    d = {')' : '(', '}' : '{', ']' : '['}\n",
    "    for p in s:\n",
    "        if p in d:\n",
    "            #if p is opening bracket.\n",
    "            opening = stack.pop() if stack else \"#\"\n",
    "            if d[p] != opening:\n",
    "                return False\n",
    "        else:\n",
    "            #if p is closing bracket.\n",
    "            stack.append(p)\n",
    "\n",
    "    return not stack\n",
    "\n",
    "# print(isValid(s))"
   ]
  },
  {
   "cell_type": "code",
   "execution_count": null,
   "metadata": {},
   "outputs": [],
   "source": [
    "def moveZero(arr):\n",
    "    non_zero_p = 0\n",
    "    for i in range(len(arr)):\n",
    "        if arr[i] != 0:\n",
    "            arr[i], arr[non_zero_p] = arr[non_zero_p], arr[i]\n",
    "            non_zero_p += 1"
   ]
  },
  {
   "cell_type": "code",
   "execution_count": null,
   "metadata": {},
   "outputs": [],
   "source": [
    "def addTwoNumbers(h1, h2):\n",
    "    dummy = Listnode()\n",
    "    current = dummy\n",
    "    carry = 0\n",
    "\n",
    "    while h1 or h2 or carry:\n",
    "        v1 = h1.val if h1 else 0\n",
    "        v2 = h2.val if h2 else 0\n",
    "        total = v1 + v2 + carry\n",
    "\n",
    "        ones = total % 10\n",
    "        carry = total // 10\n",
    "\n",
    "        current.next = Listnode(ones)\n",
    "        current = current.next\n",
    "\n",
    "        h1 = h1.next if h1 else None\n",
    "        h2 = h2.next if h2 else None\n",
    "\n",
    "    return dummy.next"
   ]
  },
  {
   "cell_type": "code",
   "execution_count": null,
   "metadata": {},
   "outputs": [],
   "source": [
    "def maxProfit(prices):\n",
    "    min_price = float('inf')\n",
    "    max_profit = 0\n",
    "\n",
    "    for price in prices:\n",
    "        if price < min_price:\n",
    "            min_price = price\n",
    "\n",
    "        elif price - min_price > max_profit:\n",
    "            max_profit = price - min_price\n",
    "\n",
    "    return max_profit"
   ]
  },
  {
   "cell_type": "code",
   "execution_count": null,
   "metadata": {},
   "outputs": [],
   "source": [
    "def maxDepth(root):\n",
    "    if root == None:\n",
    "        return 0\n",
    "    return 1+ max(maxDepth(root.left), maxDepth(root.right))"
   ]
  }
 ],
 "metadata": {
  "kernelspec": {
   "display_name": "Python 3",
   "language": "python",
   "name": "python3"
  },
  "language_info": {
   "codemirror_mode": {
    "name": "ipython",
    "version": 3
   },
   "file_extension": ".py",
   "mimetype": "text/x-python",
   "name": "python",
   "nbconvert_exporter": "python",
   "pygments_lexer": "ipython3",
   "version": "3.12.0"
  }
 },
 "nbformat": 4,
 "nbformat_minor": 2
}
