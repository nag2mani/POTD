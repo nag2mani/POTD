{
 "cells": [
  {
   "cell_type": "code",
   "execution_count": null,
   "metadata": {},
   "outputs": [],
   "source": [
    "from collections import Counter\n",
    "from typing import List\n"
   ]
  },
  {
   "cell_type": "code",
   "execution_count": null,
   "metadata": {},
   "outputs": [],
   "source": [
    "# Given an array as input, print out the array backwards.\n",
    "# Ignore empty and null arrays.\n",
    "arr= [1,2,3]\n",
    "\n",
    "def printArrayBack(arr):\n",
    "    new_arr = []\n",
    "    for i in range(len(arr)-1, -1, -1):\n",
    "        new_arr.append(arr[i])\n",
    "    return new_arr\n",
    "\n",
    "print(printArrayBack(arr))\n",
    "\n",
    "def printBackward(arr):\n",
    "    for i in range(len(arr)-1, -1, -1):\n",
    "        print(arr[i])\n",
    "printBackward(arr)"
   ]
  },
  {
   "cell_type": "code",
   "execution_count": null,
   "metadata": {},
   "outputs": [],
   "source": [
    "# Given a matrix as input (2D array). Print out all the items in that array:\n",
    "# E.g, Input: [ [1 2 3], [4,5,6], [7,8,9]]\n",
    "\n",
    "# Output:\n",
    "# 1 2 3\n",
    "# 4 5 6\n",
    "# 7 8 9\n",
    "\n",
    "def printMatrix(arr):\n",
    "    rows = len(arr)\n",
    "    column = len(arr[0])\n",
    "    for i in range(rows):\n",
    "        for j in range(column):\n",
    "            print(arr[i][j], \" \")\n",
    "        print()\n",
    "        \n",
    "printMatrix(arr)\n",
    "\n",
    "def printArray(arr):\n",
    "    for i in arr:\n",
    "        for j in i:\n",
    "            print(j, \" \")\n",
    "        print()\n",
    "\n",
    "printArray(arr)"
   ]
  },
  {
   "cell_type": "code",
   "execution_count": null,
   "metadata": {},
   "outputs": [],
   "source": [
    "# Given a string, remove all the vowels from the string.\n",
    "# E.g, \"hello world\" => \"hll wrld\"\n",
    "\n",
    "s=\"dsc\"\n",
    "\n",
    "def removeVowels(s):\n",
    "    new_str = ''\n",
    "    vowels = ['a', 'e', 'i', 'o','u']\n",
    "    for c in s:\n",
    "        if c not in vowels:\n",
    "            new_str += c\n",
    "    return new_str\n",
    "\n",
    "print(removeVowels(s))\n",
    "\n",
    "\n",
    "def removeVowels(s):\n",
    "    new_str=\"\"\n",
    "    Vowels = ['a', 'e', 'i', 'o','u']\n",
    "    for i in s:\n",
    "        if i not in Vowels:\n",
    "            new_str += i\n",
    "    return new_str\n",
    "removeVowels(s)\n"
   ]
  }
 ],
 "metadata": {
  "language_info": {
   "name": "python"
  }
 },
 "nbformat": 4,
 "nbformat_minor": 2
}
