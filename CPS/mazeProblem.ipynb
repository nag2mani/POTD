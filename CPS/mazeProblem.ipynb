{
 "cells": [
  {
   "cell_type": "code",
   "execution_count": null,
   "metadata": {},
   "outputs": [],
   "source": [
    "def doesPathExist(maze, i, j, visited):\n",
    "    row = len(maze)\n",
    "    column = len(maze[0])\n",
    "\n",
    "    # Check if we reached the bottom-right corner\n",
    "    if i == row - 1 and j == column - 1:\n",
    "        return True\n",
    "\n",
    "    # Check if out of bounds, on an obstacle, or already visited\n",
    "    if not (0 <= i < row and 0 <= j < column) or maze[i][j] == 1 or visited[i][j]:\n",
    "        return False\n",
    "\n",
    "    # Mark the cell as visited\n",
    "    visited[i][j] = True\n",
    "\n",
    "    # Explore neighbors\n",
    "    neighbours = [[i, j+1], [i+1, j], [i, j-1], [i-1, j]]\n",
    "    for k in neighbours:\n",
    "        ni, nj = k\n",
    "        if doesPathExist(maze, ni, nj, visited):\n",
    "            return True\n",
    "\n",
    "    # Unmark the cell (backtrack) If we don’t unmark the cell: The algorithm might incorrectly conclude that no path exists if a cell that should be part of the path is permanently marked as visited during a different route exploration.\n",
    "    visited[i][j] = False\n",
    "    return False\n"
   ]
  },
  {
   "cell_type": "code",
   "execution_count": 50,
   "metadata": {},
   "outputs": [
    {
     "name": "stdout",
     "output_type": "stream",
     "text": [
      "False\n"
     ]
    }
   ],
   "source": [
    "maze = [\n",
    "    [0, 1, 0],\n",
    "    [1, 0, 0],\n",
    "    [0, 1, 0],\n",
    "]\n",
    "\n",
    "visited = [[False for _ in range(len(maze[0]))] for _ in range(len(maze))]\n",
    "\n",
    "print(doesPathExist(maze, 0, 0, visited))"
   ]
  }
 ],
 "metadata": {
  "kernelspec": {
   "display_name": "Python 3",
   "language": "python",
   "name": "python3"
  },
  "language_info": {
   "codemirror_mode": {
    "name": "ipython",
    "version": 3
   },
   "file_extension": ".py",
   "mimetype": "text/x-python",
   "name": "python",
   "nbconvert_exporter": "python",
   "pygments_lexer": "ipython3",
   "version": "3.12.0"
  }
 },
 "nbformat": 4,
 "nbformat_minor": 2
}
