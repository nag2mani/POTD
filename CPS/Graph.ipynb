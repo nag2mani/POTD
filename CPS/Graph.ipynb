{
 "cells": [
  {
   "cell_type": "code",
   "execution_count": 20,
   "metadata": {},
   "outputs": [],
   "source": [
    "# Q. Check if given binary tree is balanced or not.\n",
    "\n",
    "class Node:\n",
    "    def __init__(self, data):\n",
    "        self.data = data\n",
    "        self.left = None\n",
    "        self.right = None\n",
    "\n",
    "class BinaryTree:\n",
    "    def is_balance_caller(self, root):\n",
    "        # Call the recursive helper function\n",
    "        return self.is_balance(root) != -1\n",
    "\n",
    "    def is_balance(self, node):\n",
    "        # Base case: An empty subtree is balanced with height 0\n",
    "        if node is None:\n",
    "            return 0\n",
    "\n",
    "        # Recursively check the height of the left and right subtrees\n",
    "        left_height = self.is_balance(node.left)\n",
    "        right_height = self.is_balance(node.right)\n",
    "\n",
    "        # If either subtree is unbalanced, return -1\n",
    "        if left_height == -1 or right_height == -1:\n",
    "            return -1\n",
    "\n",
    "        # Check if the current node is balanced, Return the height of this node.\n",
    "        if abs(left_height - right_height) <= 1:\n",
    "            return max(left_height, right_height) + 1\n",
    "\n",
    "        # If not balanced, return -1\n",
    "        return -1"
   ]
  },
  {
   "cell_type": "code",
   "execution_count": 21,
   "metadata": {},
   "outputs": [
    {
     "name": "stdout",
     "output_type": "stream",
     "text": [
      "Is the tree balanced? True\n"
     ]
    }
   ],
   "source": [
    "# Example-1 usage:\n",
    "tree = BinaryTree()\n",
    "root = Node(4)\n",
    "root.left = Node(2)\n",
    "root.right = Node(6)\n",
    "root.left.left = Node(3)\n",
    "root.left.right = Node(5)\n",
    "\n",
    "print(\"Is the tree balanced?\", tree.is_balance_caller(root))"
   ]
  },
  {
   "cell_type": "code",
   "execution_count": 22,
   "metadata": {},
   "outputs": [
    {
     "name": "stdout",
     "output_type": "stream",
     "text": [
      "Is the tree balanced? False\n"
     ]
    }
   ],
   "source": [
    "# Example-2 usage:\n",
    "tree = BinaryTree()\n",
    "root = Node(1)\n",
    "root.left = Node(2)\n",
    "root.left.left = Node(3)\n",
    "root.left.left.left = Node(4)\n",
    "\n",
    "print(\"Is the tree balanced?\", tree.is_balance_caller(root))"
   ]
  },
  {
   "cell_type": "markdown",
   "metadata": {},
   "source": [
    "# DFS"
   ]
  },
  {
   "cell_type": "code",
   "execution_count": null,
   "metadata": {},
   "outputs": [
    {
     "name": "stdout",
     "output_type": "stream",
     "text": [
      "A B D E F C "
     ]
    }
   ],
   "source": [
    "def dfs(graph, start):\n",
    "    visited = set()          # To keep track of visited nodes\n",
    "    stack = [start]          # Use a stack for DFS\n",
    "\n",
    "    while stack:\n",
    "        node = stack.pop()\n",
    "        if node not in visited:\n",
    "            visited.add(node)\n",
    "            print(node, end=\" \")   # Process the node (for example, print it)\n",
    "            # Add neighbors to stack in reverse order to maintain left-to-right order\n",
    "            for neighbor in reversed(graph[node]):\n",
    "                if neighbor not in visited:\n",
    "                    stack.append(neighbor)\n",
    "\n",
    "# Example usage\n",
    "graph = {\n",
    "    'A': ['B', 'C'],\n",
    "    'B': ['A', 'D', 'E'],\n",
    "    'C': ['A', 'F'],\n",
    "    'D': ['B'],\n",
    "    'E': ['B', 'F'],\n",
    "    'F': ['C', 'E']\n",
    "}\n",
    "\n",
    "dfs(graph, 'A')"
   ]
  },
  {
   "cell_type": "code",
   "execution_count": 26,
   "metadata": {},
   "outputs": [
    {
     "name": "stdout",
     "output_type": "stream",
     "text": [
      "0 1 3 4 2 "
     ]
    }
   ],
   "source": [
    "def dfs(graph, v, visited=None):\n",
    "    if visited is None:\n",
    "        visited = set()  # Initialize visited set if it's not provided\n",
    "    \n",
    "    visited.add(v)  # Mark the current node as visited\n",
    "    print(v, end=\" \")  # Process the node (e.g., print it)\n",
    "    \n",
    "    # Recur for all the unvisited neighbors of the current node\n",
    "    for neighbor in graph[v]:\n",
    "        if neighbor not in visited:\n",
    "            dfs(graph, neighbor, visited)\n",
    "\n",
    "# Example usage:\n",
    "graph = {\n",
    "    0: [1, 2],\n",
    "    1: [0, 3, 4],\n",
    "    2: [0],\n",
    "    3: [1],\n",
    "    4: [1]\n",
    "}\n",
    "\n",
    "# Call DFS starting from node 0\n",
    "dfs(graph, 0)"
   ]
  },
  {
   "cell_type": "markdown",
   "metadata": {},
   "source": [
    "# BFS"
   ]
  },
  {
   "cell_type": "code",
   "execution_count": null,
   "metadata": {},
   "outputs": [
    {
     "name": "stdout",
     "output_type": "stream",
     "text": [
      "A B C D E F "
     ]
    }
   ],
   "source": [
    "def bfs(graph, start):\n",
    "    visited = set()          # To keep track of visited nodes\n",
    "    queue = [start]          # Use a list as a queue for BFS\n",
    "\n",
    "    while queue:\n",
    "        node = queue.pop(0)  # Dequeue by popping the first element\n",
    "        if node not in visited:\n",
    "            visited.add(node)\n",
    "            print(node, end=\" \")   # Process the node (for example, print it)\n",
    "            # Add neighbors to the queue\n",
    "            for neighbor in graph[node]:\n",
    "                if neighbor not in visited:\n",
    "                    queue.append(neighbor)  # Enqueue by appending to the end of the list\n",
    "\n",
    "# Example usage\n",
    "graph = {\n",
    "    'A': ['B', 'C'],\n",
    "    'B': ['A', 'D', 'E'],\n",
    "    'C': ['A', 'F'],\n",
    "    'D': ['B'],\n",
    "    'E': ['B', 'F'],\n",
    "    'F': ['C', 'E']\n",
    "}\n",
    "\n",
    "bfs(graph, 'A')"
   ]
  },
  {
   "cell_type": "code",
   "execution_count": null,
   "metadata": {},
   "outputs": [
    {
     "name": "stdout",
     "output_type": "stream",
     "text": [
      "A B C D E F "
     ]
    }
   ],
   "source": [
    "# This works, but note that using pop(0) on a list is less efficient than using deque, as removing the first element from a list has a time complexity of O(n) compared to O(1) for deque. For small graphs, this approach will work fine, but for large graphs, using deque would be more efficient.\n",
    "\n",
    "from collections import deque\n",
    "\n",
    "def bfs(graph, start):\n",
    "    visited = set()          # To keep track of visited nodes\n",
    "    queue = deque([start])   # Use a queue for BFS\n",
    "\n",
    "    while queue:\n",
    "        node = queue.popleft()\n",
    "        if node not in visited:\n",
    "            visited.add(node)\n",
    "            print(node, end=\" \")   # Process the node (for example, print it)\n",
    "            # Add neighbors to the queue\n",
    "            for neighbor in graph[node]:\n",
    "                if neighbor not in visited:\n",
    "                    queue.append(neighbor)\n",
    "\n",
    "# Example usage\n",
    "graph = {\n",
    "    'A': ['B', 'C'],\n",
    "    'B': ['A', 'D', 'E'],\n",
    "    'C': ['A', 'F'],\n",
    "    'D': ['B'],\n",
    "    'E': ['B', 'F'],\n",
    "    'F': ['C', 'E']\n",
    "}\n",
    "\n",
    "bfs(graph, 'A')"
   ]
  }
 ],
 "metadata": {
  "kernelspec": {
   "display_name": "Python 3",
   "language": "python",
   "name": "python3"
  },
  "language_info": {
   "codemirror_mode": {
    "name": "ipython",
    "version": 3
   },
   "file_extension": ".py",
   "mimetype": "text/x-python",
   "name": "python",
   "nbconvert_exporter": "python",
   "pygments_lexer": "ipython3",
   "version": "3.12.0"
  }
 },
 "nbformat": 4,
 "nbformat_minor": 2
}
