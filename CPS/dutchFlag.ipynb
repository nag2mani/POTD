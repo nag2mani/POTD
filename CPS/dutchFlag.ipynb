{
 "cells": [
  {
   "cell_type": "code",
   "execution_count": 12,
   "metadata": {},
   "outputs": [
    {
     "name": "stdout",
     "output_type": "stream",
     "text": [
      "[3, 2, 1, 4, 2, 5, 5, 5, 5, 7, 11, 8, 15, 9]\n"
     ]
    }
   ],
   "source": [
    "# Q. Dutch National Flag with 5 as pivot.\n",
    "\n",
    "# def swap(l, m, arr):\n",
    "#     temp = arr[l]\n",
    "#     arr[l] = arr[m]\n",
    "#     arr[m] = temp\n",
    "\n",
    "def swap(l, m, arr):\n",
    "    arr[l], arr[m] = arr[m], arr[l]\n",
    "\n",
    "def dutchFlag(arr, pivot):\n",
    "    less = 0 # before this index all are less than pivot\n",
    "    greater = 0 # after that all are greater than pivot\n",
    "    i=0\n",
    "    while i < len(arr):\n",
    "        if arr[i] > pivot:\n",
    "            i = i+1\n",
    "        elif arr[i] == pivot:\n",
    "            swap(i, greater, arr)\n",
    "            greater += 1\n",
    "            i = i+1\n",
    "        else:\n",
    "            swap(greater, i, arr)\n",
    "            swap(less, greater, arr)\n",
    "            less +=1\n",
    "            greater +=1\n",
    "            i = i+1\n",
    "\n",
    "arr = [11,3,5,2,15,9,1,4,5,7,5,8,5,2]\n",
    "dutchFlag(arr, 5)\n",
    "print(arr)\n"
   ]
  }
 ],
 "metadata": {
  "kernelspec": {
   "display_name": "Python 3",
   "language": "python",
   "name": "python3"
  },
  "language_info": {
   "codemirror_mode": {
    "name": "ipython",
    "version": 3
   },
   "file_extension": ".py",
   "mimetype": "text/x-python",
   "name": "python",
   "nbconvert_exporter": "python",
   "pygments_lexer": "ipython3",
   "version": "3.12.0"
  }
 },
 "nbformat": 4,
 "nbformat_minor": 2
}
