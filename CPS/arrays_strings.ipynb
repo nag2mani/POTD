{
 "cells": [
  {
   "cell_type": "markdown",
   "metadata": {},
   "source": [
    "# Array & Strings"
   ]
  },
  {
   "cell_type": "markdown",
   "metadata": {},
   "source": [
    "### Comparison between lists and arrays in Python;\n",
    "\n",
    "1. List:\n",
    "Can store elements of different data types. You can have integers, strings, objects, etc., all in the same list.\n",
    "Example:\n",
    "my_list = [1, \"apple\", 3.14]\n",
    "\n",
    "2. Array:\n",
    "Typically stores elements of the same data type (this is enforced in some array implementations, like those in the array module or libraries like NumPy).\n",
    "Example:\n",
    "import arraymy_array = array.array('i', [1, 2, 3])  # Array of integers\n",
    "\n",
    "3. Time complexity of DIct, Set, List, Queue in python;\n",
    "Link : https://wiki.python.org/moin/TimeComplexity , https://stackoverflow.com/questions/17539367/python-dictionary-keys-in-complexity"
   ]
  },
  {
   "cell_type": "code",
   "execution_count": 12,
   "metadata": {},
   "outputs": [
    {
     "name": "stdout",
     "output_type": "stream",
     "text": [
      "convert all to lowercase\n",
      "HELLO MY FRIENDS\n"
     ]
    }
   ],
   "source": [
    "string = \"ConvErT ALL tO LoWErCASe\"\n",
    "print(string.lower())\n",
    "    \n",
    "txt = \"Hello my friends\"\n",
    "print(txt.upper())"
   ]
  },
  {
   "cell_type": "code",
   "execution_count": 11,
   "metadata": {},
   "outputs": [
    {
     "name": "stdout",
     "output_type": "stream",
     "text": [
      "False\n",
      "False\n"
     ]
    }
   ],
   "source": [
    "#Question 1.1\n",
    "\n",
    "def checkUnique(s):\n",
    "    freqDict = {}\n",
    "    # Converted to lower case\n",
    "    for char in s.lower():\n",
    "        if char in freqDict:\n",
    "            freqDict[char] = freqDict[char] + 1\n",
    "        else:\n",
    "            freqDict[char] = 1\n",
    "    \n",
    "    for key in freqDict:\n",
    "        if freqDict[key] > 1:\n",
    "            return False\n",
    "    return True\n",
    "\n",
    "s = \"nagmNi\"\n",
    "print(checkUnique(s))\n",
    "\n",
    "\n",
    "# Without using an additional data structure;\n",
    "def checkUnique2(s):\n",
    "    new_str = \"\"\n",
    "    for i in s.lower():\n",
    "        if i in new_str:\n",
    "            return False\n",
    "        else:\n",
    "            new_str = new_str + i\n",
    "    return True\n",
    "\n",
    "s = \"nagmNi\"\n",
    "print(checkUnique2(s))"
   ]
  },
  {
   "cell_type": "code",
   "execution_count": 17,
   "metadata": {},
   "outputs": [
    {
     "name": "stdout",
     "output_type": "stream",
     "text": [
      "True\n"
     ]
    }
   ],
   "source": [
    "# Question 1.2\n",
    "from collections import Counter\n",
    "\n",
    "def checkPermutation(s1, s2):\n",
    "    if len(s1) != len(s2):\n",
    "        return False\n",
    "    freq_s1 = Counter(s1)\n",
    "    freq_s2 = Counter(s2)\n",
    "    for i in freq_s1:\n",
    "        if freq_s1[i] != freq_s2[i]:\n",
    "            return False\n",
    "    return True\n",
    "\n",
    "s1 = \"nagu\"\n",
    "s2 = \"ugna\"\n",
    "print(checkPermutation(s1, s2))"
   ]
  },
  {
   "cell_type": "code",
   "execution_count": null,
   "metadata": {},
   "outputs": [],
   "source": []
  }
 ],
 "metadata": {
  "kernelspec": {
   "display_name": "Python 3",
   "language": "python",
   "name": "python3"
  },
  "language_info": {
   "codemirror_mode": {
    "name": "ipython",
    "version": 3
   },
   "file_extension": ".py",
   "mimetype": "text/x-python",
   "name": "python",
   "nbconvert_exporter": "python",
   "pygments_lexer": "ipython3",
   "version": "3.12.0"
  }
 },
 "nbformat": 4,
 "nbformat_minor": 2
}
