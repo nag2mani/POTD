{
 "cells": [
  {
   "cell_type": "code",
   "execution_count": 1,
   "metadata": {},
   "outputs": [],
   "source": [
    "def diameterOfBinaryTree(root):\n",
    "    def diameter(root, res):\n",
    "        global d\n",
    "        if not root:\n",
    "            return 0\n",
    "        left = diameter(root.left, d)\n",
    "        right = diameter(root.right, d)\n",
    "        # Update the maximum diameter encountered so far\n",
    "        d = max(d, left + right)\n",
    "        # Return the depth of the current node\n",
    "        return max(left, right) + 1\n",
    "    d=0\n",
    "    diameter(root, d)\n",
    "    return d\n",
    "        "
   ]
  },
  {
   "cell_type": "code",
   "execution_count": 2,
   "metadata": {},
   "outputs": [],
   "source": [
    "# Two Sum IV - Input is a BST\n",
    "\n",
    "def findTarget(root, k: int) -> bool:\n",
    "    nodes = []\n",
    "    def inorder(root):\n",
    "        if not root:\n",
    "            return\n",
    "        inorder(root.left)\n",
    "        nodes.append(root.val)\n",
    "        inorder(root.right)\n",
    "    inorder(root)\n",
    "    def twoSum(nums, target):\n",
    "        seen = {}\n",
    "        for i in range(len(nums)):\n",
    "            s = target - nums[i]\n",
    "            if s in seen:\n",
    "                return True\n",
    "            seen[nums[i]] = i\n",
    "        return False\n",
    "    return twoSum(nodes, k)\n",
    "\n",
    "\n",
    "# Optimal\n",
    "\n",
    "def findTarget(root, k: int) -> bool:\n",
    "    seen = set()\n",
    "    def dfs(node):\n",
    "        if not node:\n",
    "            return False\n",
    "        complement = k - node.val\n",
    "        if complement in seen:\n",
    "            return True\n",
    "        seen.add(node.val)\n",
    "        return dfs(node.left) or dfs(node.right)\n",
    "    return dfs(root)\n",
    "\n"
   ]
  }
 ],
 "metadata": {
  "kernelspec": {
   "display_name": "Python 3",
   "language": "python",
   "name": "python3"
  },
  "language_info": {
   "codemirror_mode": {
    "name": "ipython",
    "version": 3
   },
   "file_extension": ".py",
   "mimetype": "text/x-python",
   "name": "python",
   "nbconvert_exporter": "python",
   "pygments_lexer": "ipython3",
   "version": "3.12.0"
  }
 },
 "nbformat": 4,
 "nbformat_minor": 2
}
