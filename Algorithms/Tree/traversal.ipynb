{
 "cells": [
  {
   "cell_type": "markdown",
   "metadata": {},
   "source": [
    "# Binary Trees For Example"
   ]
  },
  {
   "cell_type": "code",
   "execution_count": 31,
   "metadata": {},
   "outputs": [],
   "source": [
    "class BinaryTreeNode:\n",
    "    def __init__(self, val=0, left=None, right=None):\n",
    "        self.val = val\n",
    "        self.left = left\n",
    "        self.right = right\n",
    "\n",
    "# Creating a sample tree - 1: \n",
    "#        3\n",
    "#       / \\\n",
    "#      9   20\n",
    "#    /  \\\n",
    "#   15   7\n",
    "\n",
    "root1 = BinaryTreeNode(3)\n",
    "root1.left = BinaryTreeNode(9)\n",
    "root1.right = BinaryTreeNode(20)\n",
    "root1.left.left = BinaryTreeNode(15)\n",
    "root1.left.right = BinaryTreeNode(7)\n",
    "\n",
    "# Creating a sample tree - 2: \n",
    "#        3\n",
    "#       / \\\n",
    "#      9   20\n",
    "#    /  \\\n",
    "#   15   7\n",
    "\n",
    "root2 = BinaryTreeNode(3)\n",
    "root2.left = BinaryTreeNode(9)\n",
    "root2.right = BinaryTreeNode(20)\n",
    "root2.left.left = BinaryTreeNode(15)\n",
    "root2.left.right = BinaryTreeNode(7)"
   ]
  },
  {
   "cell_type": "markdown",
   "metadata": {},
   "source": [
    "### Preorder"
   ]
  },
  {
   "cell_type": "code",
   "execution_count": 32,
   "metadata": {},
   "outputs": [
    {
     "name": "stdout",
     "output_type": "stream",
     "text": [
      "3\n",
      "9\n",
      "15\n",
      "7\n",
      "20\n"
     ]
    }
   ],
   "source": [
    "def preorder(root):\n",
    "    if root:\n",
    "        print(root.val)\n",
    "        preorder(root.left)\n",
    "        preorder(root.right)\n",
    "\n",
    "preorder(root1)"
   ]
  },
  {
   "cell_type": "markdown",
   "metadata": {},
   "source": [
    "### Inorder"
   ]
  },
  {
   "cell_type": "code",
   "execution_count": 33,
   "metadata": {},
   "outputs": [
    {
     "name": "stdout",
     "output_type": "stream",
     "text": [
      "15\n",
      "9\n",
      "7\n",
      "3\n",
      "20\n"
     ]
    }
   ],
   "source": [
    "def inorder(root):\n",
    "    if root:\n",
    "        inorder(root.left)\n",
    "        print(root.val)\n",
    "        inorder(root.right)\n",
    "\n",
    "inorder(root1)"
   ]
  },
  {
   "cell_type": "markdown",
   "metadata": {},
   "source": [
    "### Postorder"
   ]
  },
  {
   "cell_type": "code",
   "execution_count": 34,
   "metadata": {},
   "outputs": [
    {
     "name": "stdout",
     "output_type": "stream",
     "text": [
      "15\n",
      "7\n",
      "9\n",
      "20\n",
      "3\n"
     ]
    }
   ],
   "source": [
    "def postorder(root):\n",
    "    if root:\n",
    "        postorder(root.left)\n",
    "        postorder(root.right)\n",
    "        print(root.val)\n",
    "\n",
    "postorder(root1)"
   ]
  },
  {
   "cell_type": "code",
   "execution_count": 35,
   "metadata": {},
   "outputs": [
    {
     "name": "stdout",
     "output_type": "stream",
     "text": [
      "[15, 9, 7, 3, 20]\n"
     ]
    }
   ],
   "source": [
    "def dfs_inorder(node):\n",
    "    \"\"\"Performs an in-order DFS traversal.\"\"\"\n",
    "    if node is None:\n",
    "        return []\n",
    "    return dfs_inorder(node.left) + [node.val] + dfs_inorder(node.right)\n",
    "\n",
    "def dfs_preorder(node):\n",
    "    \"\"\"Performs a pre-order DFS traversal.\"\"\"\n",
    "    if node is None:\n",
    "        return []\n",
    "    return [node.val] + dfs_preorder(node.left) + dfs_preorder(node.right)\n",
    "\n",
    "def dfs_postorder(node):\n",
    "    \"\"\"Performs a post-order DFS traversal.\"\"\"\n",
    "    if node is None:\n",
    "        return []\n",
    "    return dfs_postorder(node.left) + dfs_postorder(node.right) + [node.val]\n",
    "\n",
    "print(dfs_inorder(root1))"
   ]
  },
  {
   "cell_type": "code",
   "execution_count": 39,
   "metadata": {},
   "outputs": [
    {
     "name": "stdout",
     "output_type": "stream",
     "text": [
      "3\n",
      "9\n",
      "20\n",
      "15\n",
      "7\n"
     ]
    }
   ],
   "source": [
    "def bfs(root):\n",
    "    if root is None:\n",
    "        return []\n",
    "\n",
    "    queue = [root]\n",
    "\n",
    "    while queue:\n",
    "        current = queue.pop(0)\n",
    "        print(current.val)\n",
    "        if current.left:\n",
    "            queue.append(current.left)\n",
    "        if current.right:\n",
    "            queue.append(current.right)\n",
    "\n",
    "bfs(root1)"
   ]
  },
  {
   "cell_type": "code",
   "execution_count": null,
   "metadata": {},
   "outputs": [],
   "source": []
  }
 ],
 "metadata": {
  "kernelspec": {
   "display_name": "Python 3",
   "language": "python",
   "name": "python3"
  },
  "language_info": {
   "codemirror_mode": {
    "name": "ipython",
    "version": 3
   },
   "file_extension": ".py",
   "mimetype": "text/x-python",
   "name": "python",
   "nbconvert_exporter": "python",
   "pygments_lexer": "ipython3",
   "version": "3.12.0"
  }
 },
 "nbformat": 4,
 "nbformat_minor": 2
}
